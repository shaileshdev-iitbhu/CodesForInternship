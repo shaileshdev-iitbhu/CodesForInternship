{
 "cells": [
  {
   "cell_type": "code",
   "execution_count": 1,
   "id": "305c0f9f",
   "metadata": {},
   "outputs": [],
   "source": [
    "import pandas as pd\n",
    "import numpy as np"
   ]
  },
  {
   "cell_type": "code",
   "execution_count": 2,
   "id": "4c8afee9",
   "metadata": {},
   "outputs": [],
   "source": [
    "loan_train_data = pd.read_csv(\"train_data.csv\")\n",
    "loan_test_data = pd.read_csv(\"test_data.csv\")"
   ]
  },
  {
   "cell_type": "code",
   "execution_count": 3,
   "id": "cad7f315",
   "metadata": {},
   "outputs": [
    {
     "data": {
      "text/html": [
       "<div>\n",
       "<style scoped>\n",
       "    .dataframe tbody tr th:only-of-type {\n",
       "        vertical-align: middle;\n",
       "    }\n",
       "\n",
       "    .dataframe tbody tr th {\n",
       "        vertical-align: top;\n",
       "    }\n",
       "\n",
       "    .dataframe thead th {\n",
       "        text-align: right;\n",
       "    }\n",
       "</style>\n",
       "<table border=\"1\" class=\"dataframe\">\n",
       "  <thead>\n",
       "    <tr style=\"text-align: right;\">\n",
       "      <th></th>\n",
       "      <th>Loan_ID</th>\n",
       "      <th>Gender</th>\n",
       "      <th>Married</th>\n",
       "      <th>Dependents</th>\n",
       "      <th>Education</th>\n",
       "      <th>Self_Employed</th>\n",
       "      <th>ApplicantIncome</th>\n",
       "      <th>CoapplicantIncome</th>\n",
       "      <th>LoanAmount</th>\n",
       "      <th>Loan_Amount_Term</th>\n",
       "      <th>Credit_History</th>\n",
       "      <th>Property_Area</th>\n",
       "      <th>Loan_Status</th>\n",
       "    </tr>\n",
       "  </thead>\n",
       "  <tbody>\n",
       "    <tr>\n",
       "      <th>0</th>\n",
       "      <td>LP001002</td>\n",
       "      <td>Male</td>\n",
       "      <td>No</td>\n",
       "      <td>0</td>\n",
       "      <td>Graduate</td>\n",
       "      <td>No</td>\n",
       "      <td>5849</td>\n",
       "      <td>0.0</td>\n",
       "      <td>NaN</td>\n",
       "      <td>360.0</td>\n",
       "      <td>1.0</td>\n",
       "      <td>Urban</td>\n",
       "      <td>Y</td>\n",
       "    </tr>\n",
       "    <tr>\n",
       "      <th>1</th>\n",
       "      <td>LP001003</td>\n",
       "      <td>Male</td>\n",
       "      <td>Yes</td>\n",
       "      <td>1</td>\n",
       "      <td>Graduate</td>\n",
       "      <td>No</td>\n",
       "      <td>4583</td>\n",
       "      <td>1508.0</td>\n",
       "      <td>128.0</td>\n",
       "      <td>360.0</td>\n",
       "      <td>1.0</td>\n",
       "      <td>Rural</td>\n",
       "      <td>N</td>\n",
       "    </tr>\n",
       "    <tr>\n",
       "      <th>2</th>\n",
       "      <td>LP001005</td>\n",
       "      <td>Male</td>\n",
       "      <td>Yes</td>\n",
       "      <td>0</td>\n",
       "      <td>Graduate</td>\n",
       "      <td>Yes</td>\n",
       "      <td>3000</td>\n",
       "      <td>0.0</td>\n",
       "      <td>66.0</td>\n",
       "      <td>360.0</td>\n",
       "      <td>1.0</td>\n",
       "      <td>Urban</td>\n",
       "      <td>Y</td>\n",
       "    </tr>\n",
       "    <tr>\n",
       "      <th>3</th>\n",
       "      <td>LP001006</td>\n",
       "      <td>Male</td>\n",
       "      <td>Yes</td>\n",
       "      <td>0</td>\n",
       "      <td>Not Graduate</td>\n",
       "      <td>No</td>\n",
       "      <td>2583</td>\n",
       "      <td>2358.0</td>\n",
       "      <td>120.0</td>\n",
       "      <td>360.0</td>\n",
       "      <td>1.0</td>\n",
       "      <td>Urban</td>\n",
       "      <td>Y</td>\n",
       "    </tr>\n",
       "    <tr>\n",
       "      <th>4</th>\n",
       "      <td>LP001008</td>\n",
       "      <td>Male</td>\n",
       "      <td>No</td>\n",
       "      <td>0</td>\n",
       "      <td>Graduate</td>\n",
       "      <td>No</td>\n",
       "      <td>6000</td>\n",
       "      <td>0.0</td>\n",
       "      <td>141.0</td>\n",
       "      <td>360.0</td>\n",
       "      <td>1.0</td>\n",
       "      <td>Urban</td>\n",
       "      <td>Y</td>\n",
       "    </tr>\n",
       "  </tbody>\n",
       "</table>\n",
       "</div>"
      ],
      "text/plain": [
       "    Loan_ID Gender Married Dependents     Education Self_Employed  \\\n",
       "0  LP001002   Male      No          0      Graduate            No   \n",
       "1  LP001003   Male     Yes          1      Graduate            No   \n",
       "2  LP001005   Male     Yes          0      Graduate           Yes   \n",
       "3  LP001006   Male     Yes          0  Not Graduate            No   \n",
       "4  LP001008   Male      No          0      Graduate            No   \n",
       "\n",
       "   ApplicantIncome  CoapplicantIncome  LoanAmount  Loan_Amount_Term  \\\n",
       "0             5849                0.0         NaN             360.0   \n",
       "1             4583             1508.0       128.0             360.0   \n",
       "2             3000                0.0        66.0             360.0   \n",
       "3             2583             2358.0       120.0             360.0   \n",
       "4             6000                0.0       141.0             360.0   \n",
       "\n",
       "   Credit_History Property_Area Loan_Status  \n",
       "0             1.0         Urban           Y  \n",
       "1             1.0         Rural           N  \n",
       "2             1.0         Urban           Y  \n",
       "3             1.0         Urban           Y  \n",
       "4             1.0         Urban           Y  "
      ]
     },
     "execution_count": 3,
     "metadata": {},
     "output_type": "execute_result"
    }
   ],
   "source": [
    "loan_train_data.head()"
   ]
  },
  {
   "cell_type": "code",
   "execution_count": 4,
   "id": "7f2cbe01",
   "metadata": {},
   "outputs": [
    {
     "name": "stdout",
     "output_type": "stream",
     "text": [
      "<class 'pandas.core.frame.DataFrame'>\n",
      "RangeIndex: 614 entries, 0 to 613\n",
      "Data columns (total 13 columns):\n",
      " #   Column             Non-Null Count  Dtype  \n",
      "---  ------             --------------  -----  \n",
      " 0   Loan_ID            614 non-null    object \n",
      " 1   Gender             601 non-null    object \n",
      " 2   Married            611 non-null    object \n",
      " 3   Dependents         599 non-null    object \n",
      " 4   Education          614 non-null    object \n",
      " 5   Self_Employed      582 non-null    object \n",
      " 6   ApplicantIncome    614 non-null    int64  \n",
      " 7   CoapplicantIncome  614 non-null    float64\n",
      " 8   LoanAmount         592 non-null    float64\n",
      " 9   Loan_Amount_Term   600 non-null    float64\n",
      " 10  Credit_History     564 non-null    float64\n",
      " 11  Property_Area      614 non-null    object \n",
      " 12  Loan_Status        614 non-null    object \n",
      "dtypes: float64(4), int64(1), object(8)\n",
      "memory usage: 62.5+ KB\n"
     ]
    }
   ],
   "source": [
    "loan_train_data.info()"
   ]
  },
  {
   "cell_type": "code",
   "execution_count": 5,
   "id": "c8a27275",
   "metadata": {},
   "outputs": [],
   "source": [
    "# !pip install pandas_profiling\n",
    "# from pandas_profiling import ProfileReport\n",
    "# profile = ProfileReport(loan_train_data)\n",
    "# profile.to_file(output_file = \"loan_train.html\")"
   ]
  },
  {
   "cell_type": "code",
   "execution_count": 6,
   "id": "62912f00",
   "metadata": {},
   "outputs": [
    {
     "data": {
      "text/plain": [
       "Loan_ID               0\n",
       "Gender               13\n",
       "Married               3\n",
       "Dependents           15\n",
       "Education             0\n",
       "Self_Employed        32\n",
       "ApplicantIncome       0\n",
       "CoapplicantIncome     0\n",
       "LoanAmount           22\n",
       "Loan_Amount_Term     14\n",
       "Credit_History       50\n",
       "Property_Area         0\n",
       "Loan_Status           0\n",
       "dtype: int64"
      ]
     },
     "execution_count": 6,
     "metadata": {},
     "output_type": "execute_result"
    }
   ],
   "source": [
    "loan_train_data.isnull().sum()"
   ]
  },
  {
   "cell_type": "code",
   "execution_count": 7,
   "id": "7a119840",
   "metadata": {},
   "outputs": [],
   "source": [
    "loan_tr_data=loan_train_data.copy()\n",
    "loan_te_data=loan_test_data.copy()"
   ]
  },
  {
   "cell_type": "code",
   "execution_count": 8,
   "id": "f12782df",
   "metadata": {},
   "outputs": [
    {
     "data": {
      "text/html": [
       "<div>\n",
       "<style scoped>\n",
       "    .dataframe tbody tr th:only-of-type {\n",
       "        vertical-align: middle;\n",
       "    }\n",
       "\n",
       "    .dataframe tbody tr th {\n",
       "        vertical-align: top;\n",
       "    }\n",
       "\n",
       "    .dataframe thead th {\n",
       "        text-align: right;\n",
       "    }\n",
       "</style>\n",
       "<table border=\"1\" class=\"dataframe\">\n",
       "  <thead>\n",
       "    <tr style=\"text-align: right;\">\n",
       "      <th></th>\n",
       "      <th>ApplicantIncome</th>\n",
       "      <th>CoapplicantIncome</th>\n",
       "      <th>LoanAmount</th>\n",
       "      <th>Loan_Amount_Term</th>\n",
       "      <th>Credit_History</th>\n",
       "    </tr>\n",
       "  </thead>\n",
       "  <tbody>\n",
       "    <tr>\n",
       "      <th>count</th>\n",
       "      <td>614.000000</td>\n",
       "      <td>614.000000</td>\n",
       "      <td>592.000000</td>\n",
       "      <td>600.00000</td>\n",
       "      <td>564.000000</td>\n",
       "    </tr>\n",
       "    <tr>\n",
       "      <th>mean</th>\n",
       "      <td>5403.459283</td>\n",
       "      <td>1621.245798</td>\n",
       "      <td>146.412162</td>\n",
       "      <td>342.00000</td>\n",
       "      <td>0.842199</td>\n",
       "    </tr>\n",
       "    <tr>\n",
       "      <th>std</th>\n",
       "      <td>6109.041673</td>\n",
       "      <td>2926.248369</td>\n",
       "      <td>85.587325</td>\n",
       "      <td>65.12041</td>\n",
       "      <td>0.364878</td>\n",
       "    </tr>\n",
       "    <tr>\n",
       "      <th>min</th>\n",
       "      <td>150.000000</td>\n",
       "      <td>0.000000</td>\n",
       "      <td>9.000000</td>\n",
       "      <td>12.00000</td>\n",
       "      <td>0.000000</td>\n",
       "    </tr>\n",
       "    <tr>\n",
       "      <th>25%</th>\n",
       "      <td>2877.500000</td>\n",
       "      <td>0.000000</td>\n",
       "      <td>100.000000</td>\n",
       "      <td>360.00000</td>\n",
       "      <td>1.000000</td>\n",
       "    </tr>\n",
       "    <tr>\n",
       "      <th>50%</th>\n",
       "      <td>3812.500000</td>\n",
       "      <td>1188.500000</td>\n",
       "      <td>128.000000</td>\n",
       "      <td>360.00000</td>\n",
       "      <td>1.000000</td>\n",
       "    </tr>\n",
       "    <tr>\n",
       "      <th>75%</th>\n",
       "      <td>5795.000000</td>\n",
       "      <td>2297.250000</td>\n",
       "      <td>168.000000</td>\n",
       "      <td>360.00000</td>\n",
       "      <td>1.000000</td>\n",
       "    </tr>\n",
       "    <tr>\n",
       "      <th>max</th>\n",
       "      <td>81000.000000</td>\n",
       "      <td>41667.000000</td>\n",
       "      <td>700.000000</td>\n",
       "      <td>480.00000</td>\n",
       "      <td>1.000000</td>\n",
       "    </tr>\n",
       "  </tbody>\n",
       "</table>\n",
       "</div>"
      ],
      "text/plain": [
       "       ApplicantIncome  CoapplicantIncome  LoanAmount  Loan_Amount_Term  \\\n",
       "count       614.000000         614.000000  592.000000         600.00000   \n",
       "mean       5403.459283        1621.245798  146.412162         342.00000   \n",
       "std        6109.041673        2926.248369   85.587325          65.12041   \n",
       "min         150.000000           0.000000    9.000000          12.00000   \n",
       "25%        2877.500000           0.000000  100.000000         360.00000   \n",
       "50%        3812.500000        1188.500000  128.000000         360.00000   \n",
       "75%        5795.000000        2297.250000  168.000000         360.00000   \n",
       "max       81000.000000       41667.000000  700.000000         480.00000   \n",
       "\n",
       "       Credit_History  \n",
       "count      564.000000  \n",
       "mean         0.842199  \n",
       "std          0.364878  \n",
       "min          0.000000  \n",
       "25%          1.000000  \n",
       "50%          1.000000  \n",
       "75%          1.000000  \n",
       "max          1.000000  "
      ]
     },
     "execution_count": 8,
     "metadata": {},
     "output_type": "execute_result"
    }
   ],
   "source": [
    "loan_tr_data.describe()"
   ]
  },
  {
   "cell_type": "code",
   "execution_count": 9,
   "id": "c2653138",
   "metadata": {},
   "outputs": [
    {
     "data": {
      "text/plain": [
       "(614, 13)"
      ]
     },
     "execution_count": 9,
     "metadata": {},
     "output_type": "execute_result"
    }
   ],
   "source": [
    "loan_tr_data.shape"
   ]
  },
  {
   "cell_type": "code",
   "execution_count": 10,
   "id": "107fa956",
   "metadata": {},
   "outputs": [
    {
     "data": {
      "text/plain": [
       "Y    422\n",
       "N    192\n",
       "Name: Loan_Status, dtype: int64"
      ]
     },
     "execution_count": 10,
     "metadata": {},
     "output_type": "execute_result"
    }
   ],
   "source": [
    "loan_tr_data['Loan_Status'].value_counts()"
   ]
  },
  {
   "cell_type": "code",
   "execution_count": 11,
   "id": "06b2c80d",
   "metadata": {},
   "outputs": [
    {
     "data": {
      "text/plain": [
       "Y    0.687296\n",
       "N    0.312704\n",
       "Name: Loan_Status, dtype: float64"
      ]
     },
     "execution_count": 11,
     "metadata": {},
     "output_type": "execute_result"
    }
   ],
   "source": [
    "loan_tr_data['Loan_Status'].value_counts(normalize=True) # it gives the proportion rather than the numbers."
   ]
  },
  {
   "cell_type": "code",
   "execution_count": 12,
   "id": "d6500d28",
   "metadata": {},
   "outputs": [
    {
     "data": {
      "text/plain": [
       "<AxesSubplot:>"
      ]
     },
     "execution_count": 12,
     "metadata": {},
     "output_type": "execute_result"
    },
    {
     "data": {
      "image/png": "[encoded data removed]",
      "text/plain": [
       "<Figure size 432x288 with 1 Axes>"
      ]
     },
     "metadata": {
      "needs_background": "light"
     },
     "output_type": "display_data"
    }
   ],
   "source": [
    "loan_tr_data['Loan_Status'].value_counts().plot.bar()"
   ]
  },
  {
   "cell_type": "markdown",
   "id": "455dcb05",
   "metadata": {},
   "source": [
    "## Independent Variable(Categorical)"
   ]
  },
  {
   "cell_type": "code",
   "execution_count": 13,
   "id": "b245f723",
   "metadata": {
    "scrolled": true
   },
   "outputs": [
    {
     "data": {
      "image/png": "[encoded data removed]",
      "text/plain": [
       "<Figure size 1584x720 with 4 Axes>"
      ]
     },
     "metadata": {
      "needs_background": "light"
     },
     "output_type": "display_data"
    }
   ],
   "source": [
    "import matplotlib.pyplot as plt\n",
    "# plt.figure1\n",
    "plt.subplot(221)\n",
    "loan_tr_data['Gender'].value_counts().plot.bar(figsize=(22,10), title=\"Gender\")\n",
    "plt.subplot(222)\n",
    "loan_tr_data['Married'].value_counts().plot.bar(title=\"Married\")\n",
    "plt.subplot(223)\n",
    "loan_tr_data['Self_Employed'].value_counts().plot.bar(title=\"Self_employed\")\n",
    "plt.subplot(224)\n",
    "loan_tr_data['Credit_History'].value_counts().plot.bar(title=\"credit_history\")\n",
    "plt.show()"
   ]
  },
  {
   "cell_type": "markdown",
   "id": "9684f5b5",
   "metadata": {},
   "source": [
    "## Independent Variable (Ordinal)"
   ]
  },
  {
   "cell_type": "code",
   "execution_count": 14,
   "id": "2d8bc05d",
   "metadata": {},
   "outputs": [
    {
     "data": {
      "image/png": "[encoded data removed]",
      "text/plain": [
       "<Figure size 1728x432 with 3 Axes>"
      ]
     },
     "metadata": {
      "needs_background": "light"
     },
     "output_type": "display_data"
    }
   ],
   "source": [
    "plt.subplot(131)\n",
    "loan_tr_data['Dependents'].value_counts(normalize=True).plot.bar(figsize=(24,6),title='Dependents')\n",
    "plt.subplot(132)\n",
    "loan_tr_data['Education'].value_counts(normalize=True).plot.bar(title='Education')\n",
    "plt.subplot(133)\n",
    "loan_tr_data['Property_Area'].value_counts(normalize=True).plot.bar(title='Property_Area')\n",
    "plt.show()"
   ]
  },
  {
   "cell_type": "markdown",
   "id": "31b5a446",
   "metadata": {},
   "source": [
    "## Independent Variable(Numerical)"
   ]
  },
  {
   "cell_type": "code",
   "execution_count": 15,
   "id": "35ff3c8c",
   "metadata": {},
   "outputs": [
    {
     "data": {
      "text/plain": [
       "<seaborn.axisgrid.FacetGrid at 0x17837d3ae90>"
      ]
     },
     "execution_count": 15,
     "metadata": {},
     "output_type": "execute_result"
    },
    {
     "data": {
      "image/png": "[encoded data removed]",
      "text/plain": [
       "<Figure size 864x360 with 2 Axes>"
      ]
     },
     "metadata": {
      "needs_background": "light"
     },
     "output_type": "display_data"
    },
    {
     "data": {
      "image/png": "[encoded data removed]",
      "text/plain": [
       "<Figure size 360x360 with 1 Axes>"
      ]
     },
     "metadata": {
      "needs_background": "light"
     },
     "output_type": "display_data"
    }
   ],
   "source": [
    "import seaborn as sns\n",
    "plt.subplot(121)\n",
    "loan_tr_data['ApplicantIncome'].plot.box(figsize=(12,5));\n",
    "plt.subplot(122)\n",
    "sns.displot(loan_tr_data['ApplicantIncome'])  #we can use distplot also"
   ]
  },
  {
   "cell_type": "code",
   "execution_count": 16,
   "id": "79dc9278",
   "metadata": {},
   "outputs": [
    {
     "data": {
      "text/plain": [
       "<AxesSubplot:title={'center':'ApplicantIncome'}, xlabel='Education'>"
      ]
     },
     "execution_count": 16,
     "metadata": {},
     "output_type": "execute_result"
    },
    {
     "data": {
      "image/png": "[encoded data removed]",
      "text/plain": [
       "<Figure size 432x288 with 1 Axes>"
      ]
     },
     "metadata": {
      "needs_background": "light"
     },
     "output_type": "display_data"
    }
   ],
   "source": [
    "loan_tr_data.boxplot(column='ApplicantIncome', by ='Education')"
   ]
  },
  {
   "cell_type": "code",
   "execution_count": 17,
   "id": "91ea6406",
   "metadata": {},
   "outputs": [
    {
     "name": "stderr",
     "output_type": "stream",
     "text": [
      "C:\\Program Files\\Python310\\lib\\site-packages\\seaborn\\distributions.py:2619: FutureWarning: `distplot` is a deprecated function and will be removed in a future version. Please adapt your code to use either `displot` (a figure-level function with similar flexibility) or `histplot` (an axes-level function for histograms).\n",
      "  warnings.warn(msg, FutureWarning)\n"
     ]
    },
    {
     "data": {
      "text/plain": [
       "<AxesSubplot:>"
      ]
     },
     "execution_count": 17,
     "metadata": {},
     "output_type": "execute_result"
    },
    {
     "data": {
      "image/png": "[encoded data removed]",
      "text/plain": [
       "<Figure size 864x360 with 2 Axes>"
      ]
     },
     "metadata": {
      "needs_background": "light"
     },
     "output_type": "display_data"
    }
   ],
   "source": [
    "plt.subplot(121)\n",
    "sns.distplot(loan_tr_data['CoapplicantIncome']);\n",
    "plt.subplot(122)\n",
    "loan_tr_data['CoapplicantIncome'].plot.box(figsize=(12,5))"
   ]
  },
  {
   "cell_type": "code",
   "execution_count": 18,
   "id": "ab3d6ffb",
   "metadata": {},
   "outputs": [
    {
     "name": "stderr",
     "output_type": "stream",
     "text": [
      "C:\\Program Files\\Python310\\lib\\site-packages\\seaborn\\distributions.py:2619: FutureWarning: `distplot` is a deprecated function and will be removed in a future version. Please adapt your code to use either `displot` (a figure-level function with similar flexibility) or `histplot` (an axes-level function for histograms).\n",
      "  warnings.warn(msg, FutureWarning)\n"
     ]
    },
    {
     "data": {
      "text/plain": [
       "<AxesSubplot:>"
      ]
     },
     "execution_count": 18,
     "metadata": {},
     "output_type": "execute_result"
    },
    {
     "data": {
      "image/png": "[encoded data removed]",
      "text/plain": [
       "<Figure size 864x360 with 2 Axes>"
      ]
     },
     "metadata": {
      "needs_background": "light"
     },
     "output_type": "display_data"
    }
   ],
   "source": [
    "plt.subplot(121)\n",
    "sns.distplot(loan_tr_data['LoanAmount']);\n",
    "plt.subplot(122)\n",
    "loan_tr_data['LoanAmount'].plot.box(figsize=(12,5))"
   ]
  },
  {
   "cell_type": "code",
   "execution_count": 19,
   "id": "b4d6cdd7",
   "metadata": {},
   "outputs": [
    {
     "data": {
      "text/plain": [
       "Gender\n",
       "Female    112\n",
       "Male      489\n",
       "dtype: int64"
      ]
     },
     "execution_count": 19,
     "metadata": {},
     "output_type": "execute_result"
    }
   ],
   "source": [
    "Gender=pd.crosstab(loan_tr_data['Gender'], loan_tr_data['Loan_Status'])\n",
    "Gender.sum(1)   # sum(1) adds column wise on each row, sum(0) adds rows wise on each column"
   ]
  },
  {
   "cell_type": "code",
   "execution_count": 20,
   "id": "e2719b89",
   "metadata": {},
   "outputs": [
    {
     "data": {
      "text/html": [
       "<div>\n",
       "<style scoped>\n",
       "    .dataframe tbody tr th:only-of-type {\n",
       "        vertical-align: middle;\n",
       "    }\n",
       "\n",
       "    .dataframe tbody tr th {\n",
       "        vertical-align: top;\n",
       "    }\n",
       "\n",
       "    .dataframe thead th {\n",
       "        text-align: right;\n",
       "    }\n",
       "</style>\n",
       "<table border=\"1\" class=\"dataframe\">\n",
       "  <thead>\n",
       "    <tr style=\"text-align: right;\">\n",
       "      <th>Loan_Status</th>\n",
       "      <th>N</th>\n",
       "      <th>Y</th>\n",
       "      <th>All</th>\n",
       "    </tr>\n",
       "    <tr>\n",
       "      <th>Gender</th>\n",
       "      <th></th>\n",
       "      <th></th>\n",
       "      <th></th>\n",
       "    </tr>\n",
       "  </thead>\n",
       "  <tbody>\n",
       "    <tr>\n",
       "      <th>Female</th>\n",
       "      <td>37</td>\n",
       "      <td>75</td>\n",
       "      <td>112</td>\n",
       "    </tr>\n",
       "    <tr>\n",
       "      <th>Male</th>\n",
       "      <td>150</td>\n",
       "      <td>339</td>\n",
       "      <td>489</td>\n",
       "    </tr>\n",
       "    <tr>\n",
       "      <th>All</th>\n",
       "      <td>187</td>\n",
       "      <td>414</td>\n",
       "      <td>601</td>\n",
       "    </tr>\n",
       "  </tbody>\n",
       "</table>\n",
       "</div>"
      ],
      "text/plain": [
       "Loan_Status    N    Y  All\n",
       "Gender                    \n",
       "Female        37   75  112\n",
       "Male         150  339  489\n",
       "All          187  414  601"
      ]
     },
     "execution_count": 20,
     "metadata": {},
     "output_type": "execute_result"
    }
   ],
   "source": [
    "Gender=pd.crosstab(loan_tr_data['Gender'], loan_tr_data['Loan_Status'], margins=True)\n",
    "Gender"
   ]
  },
  {
   "cell_type": "code",
   "execution_count": 21,
   "id": "cd4a4e34",
   "metadata": {},
   "outputs": [
    {
     "data": {
      "text/plain": [
       "<AxesSubplot:xlabel='Gender'>"
      ]
     },
     "execution_count": 21,
     "metadata": {},
     "output_type": "execute_result"
    },
    {
     "data": {
      "image/png": "[encoded data removed]",
      "text/plain": [
       "<Figure size 288x288 with 1 Axes>"
      ]
     },
     "metadata": {
      "needs_background": "light"
     },
     "output_type": "display_data"
    }
   ],
   "source": [
    "Gender.div(Gender.sum(1).astype(float), axis=0).plot(kind='bar', stacked=True, figsize=(4,4))"
   ]
  },
  {
   "cell_type": "code",
   "execution_count": null,
   "id": "e4a78921",
   "metadata": {},
   "outputs": [],
   "source": []
  },
  {
   "cell_type": "code",
   "execution_count": 22,
   "id": "d13e7052",
   "metadata": {},
   "outputs": [
    {
     "data": {
      "text/plain": [
       "<AxesSubplot:xlabel='Married'>"
      ]
     },
     "execution_count": 22,
     "metadata": {},
     "output_type": "execute_result"
    },
    {
     "data": {
      "image/png": "[encoded data removed]",
      "text/plain": [
       "<Figure size 288x288 with 1 Axes>"
      ]
     },
     "metadata": {
      "needs_background": "light"
     },
     "output_type": "display_data"
    }
   ],
   "source": [
    "Married = pd.crosstab(loan_tr_data['Married'], loan_tr_data['Loan_Status'])\n",
    "Married.div(Married.sum(1).astype(float),axis=0).plot(kind=\"bar\", stacked=True, figsize=(4,4))"
   ]
  },
  {
   "cell_type": "code",
   "execution_count": 23,
   "id": "48448c41",
   "metadata": {},
   "outputs": [
    {
     "data": {
      "text/plain": [
       "<AxesSubplot:xlabel='Dependents'>"
      ]
     },
     "execution_count": 23,
     "metadata": {},
     "output_type": "execute_result"
    },
    {
     "data": {
      "image/png": "[encoded data removed]",
      "text/plain": [
       "<Figure size 288x288 with 1 Axes>"
      ]
     },
     "metadata": {
      "needs_background": "light"
     },
     "output_type": "display_data"
    }
   ],
   "source": [
    "Dependents=pd.crosstab(loan_tr_data['Dependents'],loan_tr_data['Loan_Status'])\n",
    "Dependents.div(Dependents.sum(1).astype(float),axis=0).plot(kind=\"bar\", stacked=True, figsize=(4,4))"
   ]
  },
  {
   "cell_type": "code",
   "execution_count": 24,
   "id": "7bae691b",
   "metadata": {},
   "outputs": [
    {
     "data": {
      "text/plain": [
       "<AxesSubplot:xlabel='Self_Employed'>"
      ]
     },
     "execution_count": 24,
     "metadata": {},
     "output_type": "execute_result"
    },
    {
     "data": {
      "image/png": "[encoded data removed]",
      "text/plain": [
       "<Figure size 288x288 with 1 Axes>"
      ]
     },
     "metadata": {
      "needs_background": "light"
     },
     "output_type": "display_data"
    },
    {
     "data": {
      "image/png": "[encoded data removed]",
      "text/plain": [
       "<Figure size 288x288 with 1 Axes>"
      ]
     },
     "metadata": {
      "needs_background": "light"
     },
     "output_type": "display_data"
    }
   ],
   "source": [
    "\n",
    "Education=pd.crosstab(loan_tr_data['Education'],loan_tr_data['Loan_Status'])\n",
    "Education.div(Education.sum(1).astype(float),axis=0).plot(kind=\"bar\", stacked=True, figsize=(4,4))\n",
    "\n",
    "Self_Employed=pd.crosstab(loan_tr_data['Self_Employed'],loan_tr_data['Loan_Status'])\n",
    "Self_Employed.div(Self_Employed.sum(1).astype(float),axis=0).plot(kind=\"bar\", stacked=True, figsize=(4,4))\n"
   ]
  },
  {
   "cell_type": "code",
   "execution_count": 25,
   "id": "1286f360",
   "metadata": {},
   "outputs": [
    {
     "data": {
      "text/plain": [
       "Text(0, 0.5, 'Percentage')"
      ]
     },
     "execution_count": 25,
     "metadata": {},
     "output_type": "execute_result"
    },
    {
     "data": {
      "image/png": "[encoded data removed]",
      "text/plain": [
       "<Figure size 288x288 with 1 Axes>"
      ]
     },
     "metadata": {
      "needs_background": "light"
     },
     "output_type": "display_data"
    }
   ],
   "source": [
    "bins=[0,100,200,700]\n",
    "group=['Low','Average','High']\n",
    "loan_tr_data['LoanAmount_bin'] = pd.cut(loan_tr_data['LoanAmount'], bins, labels=group)\n",
    "LoanAmount_bin = pd.crosstab(loan_tr_data['LoanAmount_bin'], loan_tr_data['Loan_Status'])\n",
    "LoanAmount_bin.div(LoanAmount_bin.sum(1).astype(float),axis=0).plot(kind=\"bar\", stacked=True, figsize=(4,4))\n",
    "plt.xlabel('Loan_Amount')\n",
    "plt.ylabel('Percentage')"
   ]
  },
  {
   "cell_type": "code",
   "execution_count": 26,
   "id": "05c643eb",
   "metadata": {},
   "outputs": [
    {
     "data": {
      "text/plain": [
       "<AxesSubplot:xlabel='Property_Area'>"
      ]
     },
     "execution_count": 26,
     "metadata": {},
     "output_type": "execute_result"
    },
    {
     "data": {
      "image/png": "[encoded data removed]",
      "text/plain": [
       "<Figure size 288x288 with 1 Axes>"
      ]
     },
     "metadata": {
      "needs_background": "light"
     },
     "output_type": "display_data"
    },
    {
     "data": {
      "image/png": "[encoded data removed]",
      "text/plain": [
       "<Figure size 288x288 with 1 Axes>"
      ]
     },
     "metadata": {
      "needs_background": "light"
     },
     "output_type": "display_data"
    }
   ],
   "source": [
    "Credit_History = pd.crosstab(loan_tr_data['Credit_History'], loan_tr_data['Loan_Status'])\n",
    "Property_Area = pd.crosstab(loan_tr_data['Property_Area'], loan_tr_data['Loan_Status'])\n",
    "Credit_History.div(Credit_History.sum(1).astype(float), axis=0).plot(kind=\"bar\", stacked=True, figsize=(4,4))\n",
    "Property_Area.div(Property_Area.sum(1).astype(float), axis=0).plot(kind=\"bar\", stacked=True, figsize=(4,4))"
   ]
  },
  {
   "cell_type": "code",
   "execution_count": 27,
   "id": "fadcdda6",
   "metadata": {},
   "outputs": [
    {
     "data": {
      "text/plain": [
       "Text(0.5, 0, 'Applicant_Income')"
      ]
     },
     "execution_count": 27,
     "metadata": {},
     "output_type": "execute_result"
    },
    {
     "data": {
      "image/png": "[encoded data removed]",
      "text/plain": [
       "<Figure size 288x288 with 1 Axes>"
      ]
     },
     "metadata": {
      "needs_background": "light"
     },
     "output_type": "display_data"
    }
   ],
   "source": [
    "bins=[0,2500,4000,6000,81000]\n",
    "group=['Low','Average','High','Very High']\n",
    "loan_tr_data['Income_bins'] = pd.cut(loan_tr_data['ApplicantIncome'], bins, labels=group) \n",
    "Income_bins = pd.crosstab(loan_tr_data['Income_bins'], loan_tr_data['Loan_Status'])\n",
    "Income_bins.div(Income_bins.sum(1).astype(float), axis=0).plot(kind=\"bar\", stacked=True, figsize=(4,4))\n",
    "plt.xlabel('Applicant_Income')"
   ]
  },
  {
   "cell_type": "code",
   "execution_count": 28,
   "id": "5ac0f038",
   "metadata": {},
   "outputs": [
    {
     "data": {
      "text/plain": [
       "Text(0, 0.5, 'Percentage')"
      ]
     },
     "execution_count": 28,
     "metadata": {},
     "output_type": "execute_result"
    },
    {
     "data": {
      "image/png": "[encoded data removed]",
      "text/plain": [
       "<Figure size 288x288 with 1 Axes>"
      ]
     },
     "metadata": {
      "needs_background": "light"
     },
     "output_type": "display_data"
    }
   ],
   "source": [
    "bins=[0,1000,3000,42000]\n",
    "group=['Low','Average','High']\n",
    "loan_tr_data['Coapplicant_Income_bin'] = pd.cut(loan_tr_data['CoapplicantIncome'], bins, labels=group) \n",
    "Coapplicant_Income_bin = pd.crosstab(loan_tr_data['Coapplicant_Income_bin'], loan_tr_data['Loan_Status'])\n",
    "Coapplicant_Income_bin.div(Coapplicant_Income_bin.sum(1).astype(float), axis=0).plot(kind=\"bar\", stacked=True, figsize=(4,4))\n",
    "plt.xlabel('Coapplicant_Income')\n",
    "plt.ylabel('Percentage')"
   ]
  },
  {
   "cell_type": "code",
   "execution_count": 29,
   "id": "cbc06ad3",
   "metadata": {},
   "outputs": [
    {
     "data": {
      "text/plain": [
       "Text(0.5, 1.0, 'Total income vs % Loan status')"
      ]
     },
     "execution_count": 29,
     "metadata": {},
     "output_type": "execute_result"
    },
    {
     "data": {
      "image/png": "[encoded data removed]",
      "text/plain": [
       "<Figure size 288x288 with 1 Axes>"
      ]
     },
     "metadata": {
      "needs_background": "light"
     },
     "output_type": "display_data"
    }
   ],
   "source": [
    "loan_tr_data['Total_Income'] = loan_tr_data['ApplicantIncome']+loan_tr_data['CoapplicantIncome']\n",
    "bins=[0,2500,4000,6000,81000]\n",
    "group=['Low','Average','High','Very High']\n",
    "loan_tr_data['Total_Income_bin'] = pd.cut(loan_tr_data['Total_Income'], bins, labels=group)\n",
    "Total_Income_bin = pd.crosstab(loan_tr_data['Total_Income_bin'], loan_tr_data['Loan_Status'])\n",
    "Total_Income_bin.div(Total_Income_bin.sum(1).astype(float), axis=0).plot(kind=\"bar\", stacked=True, figsize=(4,4))\n",
    "plt.xlabel('Total Income')\n",
    "plt.ylabel('Percentage')\n",
    "plt.title('Total income vs % Loan status')"
   ]
  },
  {
   "cell_type": "code",
   "execution_count": 30,
   "id": "75e017ac",
   "metadata": {},
   "outputs": [
    {
     "data": {
      "text/plain": [
       "Text(0.5, 1.0, 'Loan Amount vs % Loan status')"
      ]
     },
     "execution_count": 30,
     "metadata": {},
     "output_type": "execute_result"
    },
    {
     "data": {
      "image/png": "[encoded data removed]",
      "text/plain": [
       "<Figure size 288x288 with 1 Axes>"
      ]
     },
     "metadata": {
      "needs_background": "light"
     },
     "output_type": "display_data"
    }
   ],
   "source": [
    "bins=[0,100,200,700]\n",
    "group=['Low','Average','High']\n",
    "loan_tr_data['Loan_Amount_bin'] = pd.cut(loan_tr_data['LoanAmount'], bins, labels=group)\n",
    "Loan_Amount_bin = pd.crosstab(loan_tr_data['Loan_Amount_bin'], loan_tr_data['Loan_Status'])\n",
    "Loan_Amount_bin.div(Loan_Amount_bin.sum(1).astype(float), axis=0).plot(kind=\"bar\", stacked=True, figsize=(4,4))\n",
    "plt.xlabel('Loan Amount')\n",
    "plt.ylabel('Percentage')\n",
    "plt.title('Loan Amount vs % Loan status')"
   ]
  },
  {
   "cell_type": "code",
   "execution_count": 31,
   "id": "b7bedf36",
   "metadata": {},
   "outputs": [],
   "source": [
    "loan_tr_data.drop(['Loan_Amount_bin', 'Total_Income_bin','Coapplicant_Income_bin', 'Income_bins', 'Total_Income', 'LoanAmount_bin'], axis=1,inplace=True)\n",
    "loan_tr_data['Dependents'].replace('3+', 3, inplace = True)\n",
    "loan_te_data['Dependents'].replace('3+', 3, inplace =True)\n",
    "loan_tr_data['Loan_Status'].replace('Y', 1, inplace=True)\n",
    "loan_tr_data['Loan_Status'].replace('N', 0, inplace=True)"
   ]
  },
  {
   "cell_type": "code",
   "execution_count": 32,
   "id": "c84306b6",
   "metadata": {},
   "outputs": [
    {
     "data": {
      "text/plain": [
       "<AxesSubplot:>"
      ]
     },
     "execution_count": 32,
     "metadata": {},
     "output_type": "execute_result"
    },
    {
     "data": {
      "image/png": "[encoded data removed]",
      "text/plain": [
       "<Figure size 432x288 with 2 Axes>"
      ]
     },
     "metadata": {
      "needs_background": "light"
     },
     "output_type": "display_data"
    }
   ],
   "source": [
    "matrix=loan_tr_data.corr()\n",
    "sns.heatmap(matrix, vmax=0.8 , square=True, cmap=\"BuPu\")"
   ]
  },
  {
   "cell_type": "markdown",
   "id": "a3b32c3b",
   "metadata": {},
   "source": [
    "## Missing Value Imputation"
   ]
  },
  {
   "cell_type": "code",
   "execution_count": 33,
   "id": "f827053c",
   "metadata": {},
   "outputs": [
    {
     "data": {
      "text/plain": [
       "Loan_ID               0\n",
       "Gender               13\n",
       "Married               3\n",
       "Dependents           15\n",
       "Education             0\n",
       "Self_Employed        32\n",
       "ApplicantIncome       0\n",
       "CoapplicantIncome     0\n",
       "LoanAmount           22\n",
       "Loan_Amount_Term     14\n",
       "Credit_History       50\n",
       "Property_Area         0\n",
       "Loan_Status           0\n",
       "dtype: int64"
      ]
     },
     "execution_count": 33,
     "metadata": {},
     "output_type": "execute_result"
    }
   ],
   "source": [
    "loan_tr_data.isnull().sum()"
   ]
  },
  {
   "cell_type": "code",
   "execution_count": 34,
   "id": "e0d4573c",
   "metadata": {},
   "outputs": [],
   "source": [
    "loan_tr_data1=loan_tr_data.copy()"
   ]
  },
  {
   "cell_type": "code",
   "execution_count": 35,
   "id": "c7d801db",
   "metadata": {},
   "outputs": [
    {
     "data": {
      "text/html": [
       "<div>\n",
       "<style scoped>\n",
       "    .dataframe tbody tr th:only-of-type {\n",
       "        vertical-align: middle;\n",
       "    }\n",
       "\n",
       "    .dataframe tbody tr th {\n",
       "        vertical-align: top;\n",
       "    }\n",
       "\n",
       "    .dataframe thead th {\n",
       "        text-align: right;\n",
       "    }\n",
       "</style>\n",
       "<table border=\"1\" class=\"dataframe\">\n",
       "  <thead>\n",
       "    <tr style=\"text-align: right;\">\n",
       "      <th></th>\n",
       "      <th>Loan_ID</th>\n",
       "      <th>Gender</th>\n",
       "      <th>Married</th>\n",
       "      <th>Dependents</th>\n",
       "      <th>Education</th>\n",
       "      <th>Self_Employed</th>\n",
       "      <th>ApplicantIncome</th>\n",
       "      <th>CoapplicantIncome</th>\n",
       "      <th>LoanAmount</th>\n",
       "      <th>Loan_Amount_Term</th>\n",
       "      <th>Credit_History</th>\n",
       "      <th>Property_Area</th>\n",
       "      <th>Loan_Status</th>\n",
       "    </tr>\n",
       "  </thead>\n",
       "  <tbody>\n",
       "    <tr>\n",
       "      <th>0</th>\n",
       "      <td>LP001002</td>\n",
       "      <td>Male</td>\n",
       "      <td>No</td>\n",
       "      <td>0</td>\n",
       "      <td>Graduate</td>\n",
       "      <td>No</td>\n",
       "      <td>5849</td>\n",
       "      <td>0.0</td>\n",
       "      <td>NaN</td>\n",
       "      <td>360.0</td>\n",
       "      <td>1.0</td>\n",
       "      <td>Urban</td>\n",
       "      <td>1</td>\n",
       "    </tr>\n",
       "    <tr>\n",
       "      <th>1</th>\n",
       "      <td>LP001003</td>\n",
       "      <td>Male</td>\n",
       "      <td>Yes</td>\n",
       "      <td>1</td>\n",
       "      <td>Graduate</td>\n",
       "      <td>No</td>\n",
       "      <td>4583</td>\n",
       "      <td>1508.0</td>\n",
       "      <td>128.0</td>\n",
       "      <td>360.0</td>\n",
       "      <td>1.0</td>\n",
       "      <td>Rural</td>\n",
       "      <td>0</td>\n",
       "    </tr>\n",
       "    <tr>\n",
       "      <th>2</th>\n",
       "      <td>LP001005</td>\n",
       "      <td>Male</td>\n",
       "      <td>Yes</td>\n",
       "      <td>0</td>\n",
       "      <td>Graduate</td>\n",
       "      <td>Yes</td>\n",
       "      <td>3000</td>\n",
       "      <td>0.0</td>\n",
       "      <td>66.0</td>\n",
       "      <td>360.0</td>\n",
       "      <td>1.0</td>\n",
       "      <td>Urban</td>\n",
       "      <td>1</td>\n",
       "    </tr>\n",
       "    <tr>\n",
       "      <th>3</th>\n",
       "      <td>LP001006</td>\n",
       "      <td>Male</td>\n",
       "      <td>Yes</td>\n",
       "      <td>0</td>\n",
       "      <td>Not Graduate</td>\n",
       "      <td>No</td>\n",
       "      <td>2583</td>\n",
       "      <td>2358.0</td>\n",
       "      <td>120.0</td>\n",
       "      <td>360.0</td>\n",
       "      <td>1.0</td>\n",
       "      <td>Urban</td>\n",
       "      <td>1</td>\n",
       "    </tr>\n",
       "    <tr>\n",
       "      <th>4</th>\n",
       "      <td>LP001008</td>\n",
       "      <td>Male</td>\n",
       "      <td>No</td>\n",
       "      <td>0</td>\n",
       "      <td>Graduate</td>\n",
       "      <td>No</td>\n",
       "      <td>6000</td>\n",
       "      <td>0.0</td>\n",
       "      <td>141.0</td>\n",
       "      <td>360.0</td>\n",
       "      <td>1.0</td>\n",
       "      <td>Urban</td>\n",
       "      <td>1</td>\n",
       "    </tr>\n",
       "  </tbody>\n",
       "</table>\n",
       "</div>"
      ],
      "text/plain": [
       "    Loan_ID Gender Married Dependents     Education Self_Employed  \\\n",
       "0  LP001002   Male      No          0      Graduate            No   \n",
       "1  LP001003   Male     Yes          1      Graduate            No   \n",
       "2  LP001005   Male     Yes          0      Graduate           Yes   \n",
       "3  LP001006   Male     Yes          0  Not Graduate            No   \n",
       "4  LP001008   Male      No          0      Graduate            No   \n",
       "\n",
       "   ApplicantIncome  CoapplicantIncome  LoanAmount  Loan_Amount_Term  \\\n",
       "0             5849                0.0         NaN             360.0   \n",
       "1             4583             1508.0       128.0             360.0   \n",
       "2             3000                0.0        66.0             360.0   \n",
       "3             2583             2358.0       120.0             360.0   \n",
       "4             6000                0.0       141.0             360.0   \n",
       "\n",
       "   Credit_History Property_Area  Loan_Status  \n",
       "0             1.0         Urban            1  \n",
       "1             1.0         Rural            0  \n",
       "2             1.0         Urban            1  \n",
       "3             1.0         Urban            1  \n",
       "4             1.0         Urban            1  "
      ]
     },
     "execution_count": 35,
     "metadata": {},
     "output_type": "execute_result"
    }
   ],
   "source": [
    "loan_tr_data1.head()"
   ]
  },
  {
   "cell_type": "code",
   "execution_count": 36,
   "id": "380028a2",
   "metadata": {},
   "outputs": [],
   "source": [
    "# from sklearn.pipeline import Pipeline\n",
    "# from sklearn.impute import SimpleImputer\n",
    "# my_pipeline = Pipeline([\n",
    "#     ('Imputer', SimpleImputer(strategy=\"most_frequent\"))\n",
    "# ])\n",
    "\n",
    "# index= ['Loan_ID', 'Gender', 'Married', 'Dependents', 'Education',\n",
    "#        'Self_Employed', 'ApplicantIncome', 'CoapplicantIncome',\n",
    "#        'Loan_Amount_Term', 'Credit_History', 'Property_Area', 'Loan_Status']\n",
    "# # x=loan_tr_data1.loc[:,index]\n",
    "# loan_tr_data2=my_pipeline.fit_transform(loan_tr_data1.loc[:,index])\n",
    "# x=pd.DataFrame(loan_tr_data2, columns=index)\n",
    "\n",
    "# y=loan_tr_data1['LoanAmount'].fillna(loan_tr_data1['LoanAmount'].median())\n",
    "# y.columns='LoanAmount'\n",
    "# y=pd.DataFrame(y)\n",
    "# loan_tr_data = pd.concat([x,y],join=\"outer\", axis=1)\n"
   ]
  },
  {
   "cell_type": "markdown",
   "id": "384893f4",
   "metadata": {},
   "source": [
    "## imputation for training data"
   ]
  },
  {
   "cell_type": "code",
   "execution_count": 37,
   "id": "2e96c24d",
   "metadata": {},
   "outputs": [],
   "source": [
    "loan_tr_data['Gender'].fillna(loan_tr_data['Gender'].mode()[0], inplace=True)\n",
    "loan_tr_data['Married'].fillna(loan_tr_data['Married'].mode()[0], inplace=True)\n",
    "loan_tr_data['Dependents'].fillna(loan_tr_data['Dependents'].mode()[0], inplace=True)\n",
    "loan_tr_data['Self_Employed'].fillna(loan_tr_data['Self_Employed'].mode()[0], inplace=True)\n",
    "loan_tr_data['Loan_Amount_Term'].fillna(loan_tr_data['Loan_Amount_Term'].mode()[0], inplace=True)\n",
    "loan_tr_data['Credit_History'].fillna(loan_tr_data['Credit_History'].mode()[0], inplace=True)\n",
    "loan_tr_data['LoanAmount'].fillna(loan_tr_data['LoanAmount'].median(), inplace=True)"
   ]
  },
  {
   "cell_type": "markdown",
   "id": "752e9316",
   "metadata": {},
   "source": [
    "## imputation for test data"
   ]
  },
  {
   "cell_type": "code",
   "execution_count": 38,
   "id": "289b1bd7",
   "metadata": {},
   "outputs": [],
   "source": [
    "loan_te_data['Gender'].fillna(loan_tr_data['Gender'].mode()[0], inplace=True)\n",
    "loan_te_data['Dependents'].fillna(loan_tr_data['Dependents'].mode()[0], inplace=True)\n",
    "loan_te_data['Self_Employed'].fillna(loan_tr_data['Self_Employed'].mode()[0], inplace=True)\n",
    "loan_te_data['Loan_Amount_Term'].fillna(loan_tr_data['Loan_Amount_Term'].mode()[0], inplace=True)\n",
    "loan_te_data['Credit_History'].fillna(loan_tr_data['Credit_History'].mode()[0], inplace=True)\n",
    "loan_te_data['LoanAmount'].fillna(loan_tr_data['LoanAmount'].median(), inplace=True)"
   ]
  },
  {
   "cell_type": "code",
   "execution_count": 39,
   "id": "44b320e3",
   "metadata": {},
   "outputs": [
    {
     "data": {
      "text/plain": [
       "Loan_ID              0\n",
       "Gender               0\n",
       "Married              0\n",
       "Dependents           0\n",
       "Education            0\n",
       "Self_Employed        0\n",
       "ApplicantIncome      0\n",
       "CoapplicantIncome    0\n",
       "LoanAmount           0\n",
       "Loan_Amount_Term     0\n",
       "Credit_History       0\n",
       "Property_Area        0\n",
       "dtype: int64"
      ]
     },
     "execution_count": 39,
     "metadata": {},
     "output_type": "execute_result"
    }
   ],
   "source": [
    "loan_te_data.isnull().sum()"
   ]
  },
  {
   "cell_type": "markdown",
   "id": "f288ea10",
   "metadata": {},
   "source": [
    "## Removing The outliers by log transformation"
   ]
  },
  {
   "cell_type": "code",
   "execution_count": 40,
   "id": "7166346b",
   "metadata": {},
   "outputs": [
    {
     "data": {
      "text/plain": [
       "<AxesSubplot:>"
      ]
     },
     "execution_count": 40,
     "metadata": {},
     "output_type": "execute_result"
    },
    {
     "data": {
      "image/png": "[encoded data removed]",
      "text/plain": [
       "<Figure size 432x288 with 1 Axes>"
      ]
     },
     "metadata": {
      "needs_background": "light"
     },
     "output_type": "display_data"
    }
   ],
   "source": [
    "loan_tr_data['LoanAmount_log'] = np.log(loan_tr_data['LoanAmount'])\n",
    "loan_tr_data['LoanAmount_log'].hist(bins=20)"
   ]
  },
  {
   "cell_type": "code",
   "execution_count": 41,
   "id": "f2ef4061",
   "metadata": {},
   "outputs": [],
   "source": [
    "loan_te_data['LoanAmount_log'] = np.log(loan_te_data['LoanAmount'])\n"
   ]
  },
  {
   "cell_type": "code",
   "execution_count": 42,
   "id": "0a250cf5",
   "metadata": {},
   "outputs": [],
   "source": [
    "loan_te_data_original=loan_te_data.copy()"
   ]
  },
  {
   "cell_type": "markdown",
   "id": "675d1b5b",
   "metadata": {},
   "source": [
    "## drop unnecessary columns"
   ]
  },
  {
   "cell_type": "code",
   "execution_count": 43,
   "id": "cf5cd264",
   "metadata": {},
   "outputs": [],
   "source": [
    "loan_tr_data=loan_tr_data.drop('Loan_ID', axis=1)\n",
    "loan_te_data=loan_te_data.drop('Loan_ID', axis=1)\n",
    "# loan_tr_data=loan_tr_data.drop('LoanAmount', axis=1)\n",
    "# loan_te_data=loan_te_data.drop('LoanAmount', axis=1)"
   ]
  },
  {
   "cell_type": "code",
   "execution_count": 44,
   "id": "29a880f2",
   "metadata": {},
   "outputs": [],
   "source": [
    "X=loan_tr_data.drop('Loan_Status', axis=1)\n",
    "Y = loan_tr_data.Loan_Status"
   ]
  },
  {
   "cell_type": "code",
   "execution_count": null,
   "id": "3e8c6c7f",
   "metadata": {},
   "outputs": [],
   "source": []
  },
  {
   "cell_type": "markdown",
   "id": "211dcae3",
   "metadata": {},
   "source": [
    "We can't put get_dummies directly to the datasets, because it will also categories those numerical data as well. Thus you might see hugh number of columns."
   ]
  },
  {
   "cell_type": "markdown",
   "id": "8996319a",
   "metadata": {},
   "source": [
    "## Binning for training datasets"
   ]
  },
  {
   "cell_type": "code",
   "execution_count": 45,
   "id": "5116cbd1",
   "metadata": {},
   "outputs": [],
   "source": [
    "# bins=[0,2500,4000,6000,81000]\n",
    "# group=['Low','Average','High','Very High']\n",
    "# loan_tr_data['ApplicantIncome'] = pd.cut(loan_tr_data['ApplicantIncome'], bins, labels=group )\n",
    "\n",
    "# bins=[0,1000,3000,42000]\n",
    "# group=['Low','Average','High']\n",
    "# loan_tr_data['CoapplicantIncome']= pd.cut(loan_tr_data['CoapplicantIncome'], bins, labels=group, include_lowest=True )\n",
    "# # loan_tr_data['CoapplicantIncome'].fillna(\"\", inplace=True)\n",
    "\n",
    "# bins=[0,180,300,480]\n",
    "# group=['Low','Average','High']\n",
    "# loan_tr_data['Loan_Amount_Term']= pd.cut(loan_tr_data['Loan_Amount_Term'], bins, labels=group )\n",
    "\n",
    "# group=['Low','Average','High','Very High']   # I have done quartile binning.Because this column was normally distributed and i have to cut it equally. \n",
    "# loan_tr_data['LoanAmount_log']=pd.qcut(loan_tr_data['LoanAmount_log'],4,labels=group)\n",
    "\n",
    "# loan_tr_data=loan_tr_data.drop(['LoanAmount'], axis=1)"
   ]
  },
  {
   "cell_type": "markdown",
   "id": "946a118e",
   "metadata": {},
   "source": [
    "## Outliers and Binning for test Datasets"
   ]
  },
  {
   "cell_type": "code",
   "execution_count": 46,
   "id": "af35c351",
   "metadata": {},
   "outputs": [],
   "source": [
    "# loan_te_data['LoanAmount_log'] = np.log(loan_te_data['LoanAmount'])\n",
    "\n",
    "# bins=[0,2500,4000,6000,81000]\n",
    "# group=['Low','Average','High','Very High']\n",
    "# loan_te_data['ApplicantIncome'] = pd.cut(loan_te_data['ApplicantIncome'], bins, labels=group )\n",
    "\n",
    "# bins=[0,1000,3000,42000]\n",
    "# group=['Low','Average','High']\n",
    "# loan_te_data['CoapplicantIncome']= pd.cut(loan_te_data['CoapplicantIncome'], bins, labels=group, include_lowest=True )\n",
    "# # loan_tr_data['CoapplicantIncome'].fillna(\"\", inplace=True)\n",
    "\n",
    "# bins=[0,180,300,480]\n",
    "# group=['Low','Average','High']\n",
    "# loan_te_data['Loan_Amount_Term']= pd.cut(loan_te_data['Loan_Amount_Term'], bins, labels=group )\n",
    "\n",
    "# group=['Low','Average','High','Very High']   # I have done quartile binning.Because this column was normally distributed and i have to cut it equally. \n",
    "# loan_te_data['LoanAmount_log']=pd.qcut(loan_te_data['LoanAmount_log'],4,labels=group)\n",
    "\n",
    "# loan_te_data=loan_te_data.drop(['LoanAmount'], axis=1)"
   ]
  },
  {
   "cell_type": "code",
   "execution_count": null,
   "id": "27c07773",
   "metadata": {},
   "outputs": [],
   "source": []
  },
  {
   "cell_type": "code",
   "execution_count": 47,
   "id": "2104fa69",
   "metadata": {},
   "outputs": [],
   "source": [
    "# X[['ApplicantIncome','CoapplicantIncome']]=X[['ApplicantIncome','CoapplicantIncome']].apply(pd.to_numeric)\n",
    "X=pd.get_dummies(X)                  \n",
    "loan_te_data=pd.get_dummies(loan_te_data)"
   ]
  },
  {
   "cell_type": "code",
   "execution_count": 48,
   "id": "a2a6c01e",
   "metadata": {},
   "outputs": [
    {
     "data": {
      "text/plain": [
       "ApplicantIncome              int64\n",
       "CoapplicantIncome            int64\n",
       "LoanAmount                 float64\n",
       "Loan_Amount_Term           float64\n",
       "Credit_History             float64\n",
       "LoanAmount_log             float64\n",
       "Gender_Female                uint8\n",
       "Gender_Male                  uint8\n",
       "Married_No                   uint8\n",
       "Married_Yes                  uint8\n",
       "Dependents_3                 uint8\n",
       "Dependents_0                 uint8\n",
       "Dependents_1                 uint8\n",
       "Dependents_2                 uint8\n",
       "Education_Graduate           uint8\n",
       "Education_Not Graduate       uint8\n",
       "Self_Employed_No             uint8\n",
       "Self_Employed_Yes            uint8\n",
       "Property_Area_Rural          uint8\n",
       "Property_Area_Semiurban      uint8\n",
       "Property_Area_Urban          uint8\n",
       "dtype: object"
      ]
     },
     "execution_count": 48,
     "metadata": {},
     "output_type": "execute_result"
    }
   ],
   "source": [
    "loan_te_data.dtypes"
   ]
  },
  {
   "cell_type": "code",
   "execution_count": 49,
   "id": "c3bcc9c7",
   "metadata": {},
   "outputs": [
    {
     "data": {
      "text/plain": [
       "ApplicantIncome              int64\n",
       "CoapplicantIncome          float64\n",
       "LoanAmount                 float64\n",
       "Loan_Amount_Term           float64\n",
       "Credit_History             float64\n",
       "LoanAmount_log             float64\n",
       "Gender_Female                uint8\n",
       "Gender_Male                  uint8\n",
       "Married_No                   uint8\n",
       "Married_Yes                  uint8\n",
       "Dependents_3                 uint8\n",
       "Dependents_0                 uint8\n",
       "Dependents_1                 uint8\n",
       "Dependents_2                 uint8\n",
       "Education_Graduate           uint8\n",
       "Education_Not Graduate       uint8\n",
       "Self_Employed_No             uint8\n",
       "Self_Employed_Yes            uint8\n",
       "Property_Area_Rural          uint8\n",
       "Property_Area_Semiurban      uint8\n",
       "Property_Area_Urban          uint8\n",
       "dtype: object"
      ]
     },
     "execution_count": 49,
     "metadata": {},
     "output_type": "execute_result"
    }
   ],
   "source": [
    "X.dtypes"
   ]
  },
  {
   "cell_type": "code",
   "execution_count": 50,
   "id": "ea2fd4d1",
   "metadata": {},
   "outputs": [],
   "source": [
    "from sklearn.model_selection import train_test_split\n",
    "x_train, x_cv, y_train, y_cv = train_test_split(X,Y, test_size=0.3)"
   ]
  },
  {
   "cell_type": "code",
   "execution_count": 51,
   "id": "8b64246c",
   "metadata": {},
   "outputs": [
    {
     "name": "stdout",
     "output_type": "stream",
     "text": [
      "<class 'pandas.core.series.Series'>\n",
      "Int64Index: 185 entries, 486 to 274\n",
      "Series name: Loan_Status\n",
      "Non-Null Count  Dtype\n",
      "--------------  -----\n",
      "185 non-null    int64\n",
      "dtypes: int64(1)\n",
      "memory usage: 2.9 KB\n"
     ]
    }
   ],
   "source": [
    "y_cv.info()"
   ]
  },
  {
   "cell_type": "code",
   "execution_count": 52,
   "id": "ba368a64",
   "metadata": {},
   "outputs": [],
   "source": [
    "from sklearn.linear_model import LogisticRegression\n",
    "from sklearn.metrics import accuracy_score\n",
    "# model=LogisticRegression()\n",
    "model = LogisticRegression(C=1.0, class_weight=None, dual=False, fit_intercept=True, intercept_scaling=1,max_iter=100, \n",
    "                           multi_class='ovr', n_jobs=1, penalty='l2', random_state=1, solver='liblinear', tol=0.0001, \n",
    "                          verbose=0, warm_start=False)\n",
    "# y_train=y_train.astype(\"int64\")\n",
    "model=model.fit(x_train,y_train)\n"
   ]
  },
  {
   "cell_type": "code",
   "execution_count": 53,
   "id": "454bf4ab",
   "metadata": {},
   "outputs": [
    {
     "data": {
      "text/plain": [
       "0.8088578088578089"
      ]
     },
     "execution_count": 53,
     "metadata": {},
     "output_type": "execute_result"
    }
   ],
   "source": [
    "model.score(x_train,y_train)"
   ]
  },
  {
   "cell_type": "code",
   "execution_count": 54,
   "id": "9ff52204",
   "metadata": {},
   "outputs": [
    {
     "data": {
      "text/plain": [
       "ApplicantIncome              int64\n",
       "CoapplicantIncome          float64\n",
       "LoanAmount                 float64\n",
       "Loan_Amount_Term           float64\n",
       "Credit_History             float64\n",
       "LoanAmount_log             float64\n",
       "Gender_Female                uint8\n",
       "Gender_Male                  uint8\n",
       "Married_No                   uint8\n",
       "Married_Yes                  uint8\n",
       "Dependents_3                 uint8\n",
       "Dependents_0                 uint8\n",
       "Dependents_1                 uint8\n",
       "Dependents_2                 uint8\n",
       "Education_Graduate           uint8\n",
       "Education_Not Graduate       uint8\n",
       "Self_Employed_No             uint8\n",
       "Self_Employed_Yes            uint8\n",
       "Property_Area_Rural          uint8\n",
       "Property_Area_Semiurban      uint8\n",
       "Property_Area_Urban          uint8\n",
       "dtype: object"
      ]
     },
     "execution_count": 54,
     "metadata": {},
     "output_type": "execute_result"
    }
   ],
   "source": [
    "x_train.dtypes"
   ]
  },
  {
   "cell_type": "code",
   "execution_count": 55,
   "id": "6d1c8721",
   "metadata": {},
   "outputs": [
    {
     "data": {
      "text/plain": [
       "0.827027027027027"
      ]
     },
     "execution_count": 55,
     "metadata": {},
     "output_type": "execute_result"
    }
   ],
   "source": [
    "pred_cv=model.predict(x_cv)\n",
    "accuracy_score(y_cv,pred_cv)\n"
   ]
  },
  {
   "cell_type": "markdown",
   "id": "75ef6320",
   "metadata": {},
   "source": [
    "## Model Testing on Test Data sets"
   ]
  },
  {
   "cell_type": "code",
   "execution_count": 56,
   "id": "15c0b3be",
   "metadata": {},
   "outputs": [],
   "source": [
    "pred_test = model.predict(loan_te_data)"
   ]
  },
  {
   "cell_type": "code",
   "execution_count": 57,
   "id": "204ff8d9",
   "metadata": {},
   "outputs": [],
   "source": [
    "submission=pd.DataFrame()\n",
    "submission['Loan_ID'] = loan_te_data_original['Loan_ID'].copy()\n",
    "submission['Loan_Status'] = pred_test\n"
   ]
  },
  {
   "cell_type": "code",
   "execution_count": 58,
   "id": "5229e9a6",
   "metadata": {},
   "outputs": [],
   "source": [
    "submission['Loan_Status'].replace(1,'Y', inplace=True)\n",
    "submission['Loan_Status'].replace(0,'N', inplace=True)"
   ]
  },
  {
   "cell_type": "code",
   "execution_count": 59,
   "id": "43022312",
   "metadata": {
    "scrolled": true
   },
   "outputs": [
    {
     "data": {
      "text/plain": [
       "Loan_Status\n",
       "Y    305\n",
       "N     62\n",
       "dtype: int64"
      ]
     },
     "execution_count": 59,
     "metadata": {},
     "output_type": "execute_result"
    }
   ],
   "source": [
    "submission.value_counts('Loan_Status')"
   ]
  },
  {
   "cell_type": "code",
   "execution_count": 60,
   "id": "38e31e8e",
   "metadata": {},
   "outputs": [],
   "source": [
    "# submission.to_csv('logistic.csv')"
   ]
  },
  {
   "cell_type": "markdown",
   "id": "03b4433f",
   "metadata": {},
   "source": [
    "## Cross Validation"
   ]
  },
  {
   "cell_type": "code",
   "execution_count": 61,
   "id": "6d382f4e",
   "metadata": {},
   "outputs": [],
   "source": [
    "from sklearn.model_selection import StratifiedKFold\n",
    "from sklearn.metrics import accuracy_score\n",
    "from statistics import mean\n",
    "from sklearn import metrics"
   ]
  },
  {
   "cell_type": "code",
   "execution_count": 62,
   "id": "3152ceaa",
   "metadata": {},
   "outputs": [
    {
     "name": "stdout",
     "output_type": "stream",
     "text": [
      "\n",
      "1 of kfold 5\n",
      "accuracy score  0.8048780487804879\n",
      "\n",
      "2 of kfold 5\n",
      "accuracy score  0.8373983739837398\n",
      "\n",
      "3 of kfold 5\n",
      "accuracy score  0.7804878048780488\n",
      "\n",
      "4 of kfold 5\n",
      "accuracy score  0.7886178861788617\n",
      "\n",
      "5 of kfold 5\n",
      "accuracy score  0.7950819672131147\n",
      "\n",
      "mean of accuracy score is  0.8012928162068506\n"
     ]
    },
    {
     "name": "stderr",
     "output_type": "stream",
     "text": [
      "C:\\Users\\DEV\\AppData\\Roaming\\Python\\Python310\\site-packages\\sklearn\\linear_model\\_logistic.py:814: ConvergenceWarning: lbfgs failed to converge (status=1):\n",
      "STOP: TOTAL NO. of ITERATIONS REACHED LIMIT.\n",
      "\n",
      "Increase the number of iterations (max_iter) or scale the data as shown in:\n",
      "    https://scikit-learn.org/stable/modules/preprocessing.html\n",
      "Please also refer to the documentation for alternative solver options:\n",
      "    https://scikit-learn.org/stable/modules/linear_model.html#logistic-regression\n",
      "  n_iter_i = _check_optimize_result(\n",
      "C:\\Users\\DEV\\AppData\\Roaming\\Python\\Python310\\site-packages\\sklearn\\linear_model\\_logistic.py:814: ConvergenceWarning: lbfgs failed to converge (status=1):\n",
      "STOP: TOTAL NO. of ITERATIONS REACHED LIMIT.\n",
      "\n",
      "Increase the number of iterations (max_iter) or scale the data as shown in:\n",
      "    https://scikit-learn.org/stable/modules/preprocessing.html\n",
      "Please also refer to the documentation for alternative solver options:\n",
      "    https://scikit-learn.org/stable/modules/linear_model.html#logistic-regression\n",
      "  n_iter_i = _check_optimize_result(\n",
      "C:\\Users\\DEV\\AppData\\Roaming\\Python\\Python310\\site-packages\\sklearn\\linear_model\\_logistic.py:814: ConvergenceWarning: lbfgs failed to converge (status=1):\n",
      "STOP: TOTAL NO. of ITERATIONS REACHED LIMIT.\n",
      "\n",
      "Increase the number of iterations (max_iter) or scale the data as shown in:\n",
      "    https://scikit-learn.org/stable/modules/preprocessing.html\n",
      "Please also refer to the documentation for alternative solver options:\n",
      "    https://scikit-learn.org/stable/modules/linear_model.html#logistic-regression\n",
      "  n_iter_i = _check_optimize_result(\n",
      "C:\\Users\\DEV\\AppData\\Roaming\\Python\\Python310\\site-packages\\sklearn\\linear_model\\_logistic.py:814: ConvergenceWarning: lbfgs failed to converge (status=1):\n",
      "STOP: TOTAL NO. of ITERATIONS REACHED LIMIT.\n",
      "\n",
      "Increase the number of iterations (max_iter) or scale the data as shown in:\n",
      "    https://scikit-learn.org/stable/modules/preprocessing.html\n",
      "Please also refer to the documentation for alternative solver options:\n",
      "    https://scikit-learn.org/stable/modules/linear_model.html#logistic-regression\n",
      "  n_iter_i = _check_optimize_result(\n"
     ]
    }
   ],
   "source": [
    "i=1\n",
    "accuracy_sr=[]\n",
    "skf=StratifiedKFold(n_splits=5, random_state=1, shuffle= True)\n",
    "for train_index,test_index in skf.split(X,Y):\n",
    "    print('\\n{} of kfold {}'.format(i, skf.n_splits))\n",
    "    xtr,xvl=X.iloc[train_index], X.iloc[test_index]\n",
    "    ytr,yvl=Y.iloc[train_index], Y.iloc[test_index]\n",
    "    model=LogisticRegression(random_state=1, max_iter=100)\n",
    "    model.fit(xtr,ytr)\n",
    "    pred_test=model.predict(xvl)\n",
    "    score=accuracy_score(yvl,pred_test)\n",
    "    print('accuracy score ',score)\n",
    "    i+=1\n",
    "    accuracy_sr.append(score)\n",
    "\n",
    "print('\\nmean of accuracy score is ',mean(accuracy_sr))"
   ]
  },
  {
   "cell_type": "code",
   "execution_count": 63,
   "id": "33bfdd8a",
   "metadata": {},
   "outputs": [
    {
     "name": "stdout",
     "output_type": "stream",
     "text": [
      "auc value is:  0.7349624060150376\n"
     ]
    },
    {
     "data": {
      "image/png": "[encoded data removed]",
      "text/plain": [
       "<Figure size 864x576 with 1 Axes>"
      ]
     },
     "metadata": {
      "needs_background": "light"
     },
     "output_type": "display_data"
    }
   ],
   "source": [
    "pred_test=model.predict(loan_te_data)\n",
    "pred=model.predict_proba(xvl)[:,1]\n",
    "\n",
    "fpr,tpr,_=metrics.roc_curve(yvl, pred) # here ,_ tells about ignore all other returned varibles just give me fpr,tpr.\n",
    "auc=metrics.roc_auc_score(yvl,pred)\n",
    "plt.figure(figsize=(12,8))\n",
    "plt.plot(fpr,tpr,label=\" validation, auc=\"+str(auc))\n",
    "plt.xlabel('False Positive Rate')\n",
    "plt.ylabel('True Positive Rate')\n",
    "print('auc value is: ',str(auc))"
   ]
  },
  {
   "cell_type": "code",
   "execution_count": 64,
   "id": "71beece5",
   "metadata": {},
   "outputs": [],
   "source": [
    "# for _ in range(10):     \n",
    "#     print('do_something()')"
   ]
  },
  {
   "cell_type": "code",
   "execution_count": 65,
   "id": "5f8d70c9",
   "metadata": {},
   "outputs": [],
   "source": [
    "submission['Loan_Status']=pred_test\n",
    "submission['Loan_ID']=loan_te_data_original['Loan_ID'].copy()"
   ]
  },
  {
   "cell_type": "code",
   "execution_count": 66,
   "id": "241d0b49",
   "metadata": {},
   "outputs": [],
   "source": [
    "submission['Loan_Status'].replace(1,'Y', inplace=True)\n",
    "submission['Loan_Status'].replace(0,'N', inplace=True)"
   ]
  },
  {
   "cell_type": "code",
   "execution_count": 67,
   "id": "801af89a",
   "metadata": {},
   "outputs": [],
   "source": [
    "submission.to_csv(\"logistic_kfold.csv\")"
   ]
  },
  {
   "cell_type": "markdown",
   "id": "f69ce938",
   "metadata": {},
   "source": [
    "## Feature Engineering"
   ]
  },
  {
   "cell_type": "markdown",
   "id": "17de991d",
   "metadata": {},
   "source": [
    "1. Total Income\n",
    "2. EMI\n",
    "3. Balance Income"
   ]
  },
  {
   "cell_type": "code",
   "execution_count": 68,
   "id": "0ee55645",
   "metadata": {},
   "outputs": [],
   "source": [
    "X['Total_Income']=X['ApplicantIncome']+X['CoapplicantIncome']\n",
    "loan_te_data['Total_Income']=loan_te_data['ApplicantIncome']+loan_te_data['CoapplicantIncome']"
   ]
  },
  {
   "cell_type": "code",
   "execution_count": 69,
   "id": "d50d0ec6",
   "metadata": {},
   "outputs": [
    {
     "name": "stderr",
     "output_type": "stream",
     "text": [
      "C:\\Program Files\\Python310\\lib\\site-packages\\seaborn\\distributions.py:2619: FutureWarning: `distplot` is a deprecated function and will be removed in a future version. Please adapt your code to use either `displot` (a figure-level function with similar flexibility) or `histplot` (an axes-level function for histograms).\n",
      "  warnings.warn(msg, FutureWarning)\n"
     ]
    },
    {
     "data": {
      "text/plain": [
       "<AxesSubplot:xlabel='Total_Income', ylabel='Density'>"
      ]
     },
     "execution_count": 69,
     "metadata": {},
     "output_type": "execute_result"
    },
    {
     "data": {
      "image/png": "[encoded data removed]",
      "text/plain": [
       "<Figure size 432x288 with 1 Axes>"
      ]
     },
     "metadata": {
      "needs_background": "light"
     },
     "output_type": "display_data"
    }
   ],
   "source": [
    "sns.distplot(X['Total_Income'])"
   ]
  },
  {
   "cell_type": "code",
   "execution_count": 70,
   "id": "8034d836",
   "metadata": {},
   "outputs": [],
   "source": [
    "X['Total_Income_log']= np.log(X['Total_Income'])\n",
    "loan_te_data['Total_Income_log']=np.log(loan_te_data['Total_Income'])"
   ]
  },
  {
   "cell_type": "code",
   "execution_count": 71,
   "id": "7da76fdc",
   "metadata": {},
   "outputs": [
    {
     "name": "stderr",
     "output_type": "stream",
     "text": [
      "C:\\Program Files\\Python310\\lib\\site-packages\\seaborn\\distributions.py:2619: FutureWarning: `distplot` is a deprecated function and will be removed in a future version. Please adapt your code to use either `displot` (a figure-level function with similar flexibility) or `histplot` (an axes-level function for histograms).\n",
      "  warnings.warn(msg, FutureWarning)\n"
     ]
    },
    {
     "data": {
      "text/plain": [
       "<AxesSubplot:xlabel='Total_Income_log', ylabel='Density'>"
      ]
     },
     "execution_count": 71,
     "metadata": {},
     "output_type": "execute_result"
    },
    {
     "data": {
      "image/png": "[encoded data removed]",
      "text/plain": [
       "<Figure size 432x288 with 1 Axes>"
      ]
     },
     "metadata": {
      "needs_background": "light"
     },
     "output_type": "display_data"
    }
   ],
   "source": [
    "sns.distplot(X['Total_Income_log'])"
   ]
  },
  {
   "cell_type": "code",
   "execution_count": 72,
   "id": "0e668ca6",
   "metadata": {},
   "outputs": [
    {
     "data": {
      "text/html": [
       "<div>\n",
       "<style scoped>\n",
       "    .dataframe tbody tr th:only-of-type {\n",
       "        vertical-align: middle;\n",
       "    }\n",
       "\n",
       "    .dataframe tbody tr th {\n",
       "        vertical-align: top;\n",
       "    }\n",
       "\n",
       "    .dataframe thead th {\n",
       "        text-align: right;\n",
       "    }\n",
       "</style>\n",
       "<table border=\"1\" class=\"dataframe\">\n",
       "  <thead>\n",
       "    <tr style=\"text-align: right;\">\n",
       "      <th></th>\n",
       "      <th>ApplicantIncome</th>\n",
       "      <th>CoapplicantIncome</th>\n",
       "      <th>LoanAmount</th>\n",
       "      <th>Loan_Amount_Term</th>\n",
       "      <th>Credit_History</th>\n",
       "      <th>LoanAmount_log</th>\n",
       "      <th>Gender_Female</th>\n",
       "      <th>Gender_Male</th>\n",
       "      <th>Married_No</th>\n",
       "      <th>Married_Yes</th>\n",
       "      <th>...</th>\n",
       "      <th>Dependents_2</th>\n",
       "      <th>Education_Graduate</th>\n",
       "      <th>Education_Not Graduate</th>\n",
       "      <th>Self_Employed_No</th>\n",
       "      <th>Self_Employed_Yes</th>\n",
       "      <th>Property_Area_Rural</th>\n",
       "      <th>Property_Area_Semiurban</th>\n",
       "      <th>Property_Area_Urban</th>\n",
       "      <th>Total_Income</th>\n",
       "      <th>Total_Income_log</th>\n",
       "    </tr>\n",
       "  </thead>\n",
       "  <tbody>\n",
       "    <tr>\n",
       "      <th>0</th>\n",
       "      <td>5849</td>\n",
       "      <td>0.0</td>\n",
       "      <td>128.0</td>\n",
       "      <td>360.0</td>\n",
       "      <td>1.0</td>\n",
       "      <td>4.85203</td>\n",
       "      <td>0</td>\n",
       "      <td>1</td>\n",
       "      <td>1</td>\n",
       "      <td>0</td>\n",
       "      <td>...</td>\n",
       "      <td>0</td>\n",
       "      <td>1</td>\n",
       "      <td>0</td>\n",
       "      <td>1</td>\n",
       "      <td>0</td>\n",
       "      <td>0</td>\n",
       "      <td>0</td>\n",
       "      <td>1</td>\n",
       "      <td>5849.0</td>\n",
       "      <td>8.674026</td>\n",
       "    </tr>\n",
       "    <tr>\n",
       "      <th>1</th>\n",
       "      <td>4583</td>\n",
       "      <td>1508.0</td>\n",
       "      <td>128.0</td>\n",
       "      <td>360.0</td>\n",
       "      <td>1.0</td>\n",
       "      <td>4.85203</td>\n",
       "      <td>0</td>\n",
       "      <td>1</td>\n",
       "      <td>0</td>\n",
       "      <td>1</td>\n",
       "      <td>...</td>\n",
       "      <td>0</td>\n",
       "      <td>1</td>\n",
       "      <td>0</td>\n",
       "      <td>1</td>\n",
       "      <td>0</td>\n",
       "      <td>1</td>\n",
       "      <td>0</td>\n",
       "      <td>0</td>\n",
       "      <td>6091.0</td>\n",
       "      <td>8.714568</td>\n",
       "    </tr>\n",
       "  </tbody>\n",
       "</table>\n",
       "<p>2 rows × 23 columns</p>\n",
       "</div>"
      ],
      "text/plain": [
       "   ApplicantIncome  CoapplicantIncome  LoanAmount  Loan_Amount_Term  \\\n",
       "0             5849                0.0       128.0             360.0   \n",
       "1             4583             1508.0       128.0             360.0   \n",
       "\n",
       "   Credit_History  LoanAmount_log  Gender_Female  Gender_Male  Married_No  \\\n",
       "0             1.0         4.85203              0            1           1   \n",
       "1             1.0         4.85203              0            1           0   \n",
       "\n",
       "   Married_Yes  ...  Dependents_2  Education_Graduate  Education_Not Graduate  \\\n",
       "0            0  ...             0                   1                       0   \n",
       "1            1  ...             0                   1                       0   \n",
       "\n",
       "   Self_Employed_No  Self_Employed_Yes  Property_Area_Rural  \\\n",
       "0                 1                  0                    0   \n",
       "1                 1                  0                    1   \n",
       "\n",
       "   Property_Area_Semiurban  Property_Area_Urban  Total_Income  \\\n",
       "0                        0                    1        5849.0   \n",
       "1                        0                    0        6091.0   \n",
       "\n",
       "   Total_Income_log  \n",
       "0          8.674026  \n",
       "1          8.714568  \n",
       "\n",
       "[2 rows x 23 columns]"
      ]
     },
     "execution_count": 72,
     "metadata": {},
     "output_type": "execute_result"
    }
   ],
   "source": [
    "X.head(2)"
   ]
  },
  {
   "cell_type": "code",
   "execution_count": 73,
   "id": "43f00a17",
   "metadata": {},
   "outputs": [
    {
     "name": "stderr",
     "output_type": "stream",
     "text": [
      "C:\\Program Files\\Python310\\lib\\site-packages\\seaborn\\distributions.py:2619: FutureWarning: `distplot` is a deprecated function and will be removed in a future version. Please adapt your code to use either `displot` (a figure-level function with similar flexibility) or `histplot` (an axes-level function for histograms).\n",
      "  warnings.warn(msg, FutureWarning)\n"
     ]
    },
    {
     "data": {
      "text/plain": [
       "<AxesSubplot:xlabel='EMI', ylabel='Density'>"
      ]
     },
     "execution_count": 73,
     "metadata": {},
     "output_type": "execute_result"
    },
    {
     "data": {
      "image/png": "[encoded data removed]",
      "text/plain": [
       "<Figure size 432x288 with 1 Axes>"
      ]
     },
     "metadata": {
      "needs_background": "light"
     },
     "output_type": "display_data"
    }
   ],
   "source": [
    "X['EMI']=X['LoanAmount']/X['Loan_Amount_Term']\n",
    "loan_te_data['EMI']=loan_te_data['LoanAmount']/loan_te_data['Loan_Amount_Term']\n",
    "sns.distplot(X['EMI'])"
   ]
  },
  {
   "cell_type": "code",
   "execution_count": 74,
   "id": "972dd4a5",
   "metadata": {},
   "outputs": [
    {
     "name": "stderr",
     "output_type": "stream",
     "text": [
      "C:\\Program Files\\Python310\\lib\\site-packages\\seaborn\\distributions.py:2619: FutureWarning: `distplot` is a deprecated function and will be removed in a future version. Please adapt your code to use either `displot` (a figure-level function with similar flexibility) or `histplot` (an axes-level function for histograms).\n",
      "  warnings.warn(msg, FutureWarning)\n"
     ]
    },
    {
     "data": {
      "image/png": "[encoded data removed]",
      "text/plain": [
       "<Figure size 432x288 with 1 Axes>"
      ]
     },
     "metadata": {
      "needs_background": "light"
     },
     "output_type": "display_data"
    }
   ],
   "source": [
    "X['Balance_Income'] = X['Total_Income']-(X['EMI']*1000)\n",
    "loan_te_data['Balance_Income'] = loan_te_data['Total_Income']-(loan_te_data['EMI']*1000)\n",
    "sns.distplot(X['Balance_Income']);"
   ]
  },
  {
   "cell_type": "code",
   "execution_count": 75,
   "id": "f423a568",
   "metadata": {},
   "outputs": [],
   "source": [
    "X=X.drop(['ApplicantIncome','CoapplicantIncome','LoanAmount','Loan_Amount_Term'], axis=1)\n",
    "loan_te_data=loan_te_data.drop(['ApplicantIncome','CoapplicantIncome','LoanAmount','Loan_Amount_Term'], axis=1)"
   ]
  },
  {
   "cell_type": "code",
   "execution_count": 76,
   "id": "8952c8ed",
   "metadata": {},
   "outputs": [
    {
     "data": {
      "text/html": [
       "<div>\n",
       "<style scoped>\n",
       "    .dataframe tbody tr th:only-of-type {\n",
       "        vertical-align: middle;\n",
       "    }\n",
       "\n",
       "    .dataframe tbody tr th {\n",
       "        vertical-align: top;\n",
       "    }\n",
       "\n",
       "    .dataframe thead th {\n",
       "        text-align: right;\n",
       "    }\n",
       "</style>\n",
       "<table border=\"1\" class=\"dataframe\">\n",
       "  <thead>\n",
       "    <tr style=\"text-align: right;\">\n",
       "      <th></th>\n",
       "      <th>Credit_History</th>\n",
       "      <th>LoanAmount_log</th>\n",
       "      <th>Gender_Female</th>\n",
       "      <th>Gender_Male</th>\n",
       "      <th>Married_No</th>\n",
       "      <th>Married_Yes</th>\n",
       "      <th>Dependents_3</th>\n",
       "      <th>Dependents_0</th>\n",
       "      <th>Dependents_1</th>\n",
       "      <th>Dependents_2</th>\n",
       "      <th>...</th>\n",
       "      <th>Education_Not Graduate</th>\n",
       "      <th>Self_Employed_No</th>\n",
       "      <th>Self_Employed_Yes</th>\n",
       "      <th>Property_Area_Rural</th>\n",
       "      <th>Property_Area_Semiurban</th>\n",
       "      <th>Property_Area_Urban</th>\n",
       "      <th>Total_Income</th>\n",
       "      <th>Total_Income_log</th>\n",
       "      <th>EMI</th>\n",
       "      <th>Balance_Income</th>\n",
       "    </tr>\n",
       "  </thead>\n",
       "  <tbody>\n",
       "    <tr>\n",
       "      <th>0</th>\n",
       "      <td>1.0</td>\n",
       "      <td>4.852030</td>\n",
       "      <td>0</td>\n",
       "      <td>1</td>\n",
       "      <td>1</td>\n",
       "      <td>0</td>\n",
       "      <td>0</td>\n",
       "      <td>1</td>\n",
       "      <td>0</td>\n",
       "      <td>0</td>\n",
       "      <td>...</td>\n",
       "      <td>0</td>\n",
       "      <td>1</td>\n",
       "      <td>0</td>\n",
       "      <td>0</td>\n",
       "      <td>0</td>\n",
       "      <td>1</td>\n",
       "      <td>5849.0</td>\n",
       "      <td>8.674026</td>\n",
       "      <td>0.355556</td>\n",
       "      <td>5493.444444</td>\n",
       "    </tr>\n",
       "    <tr>\n",
       "      <th>1</th>\n",
       "      <td>1.0</td>\n",
       "      <td>4.852030</td>\n",
       "      <td>0</td>\n",
       "      <td>1</td>\n",
       "      <td>0</td>\n",
       "      <td>1</td>\n",
       "      <td>0</td>\n",
       "      <td>0</td>\n",
       "      <td>1</td>\n",
       "      <td>0</td>\n",
       "      <td>...</td>\n",
       "      <td>0</td>\n",
       "      <td>1</td>\n",
       "      <td>0</td>\n",
       "      <td>1</td>\n",
       "      <td>0</td>\n",
       "      <td>0</td>\n",
       "      <td>6091.0</td>\n",
       "      <td>8.714568</td>\n",
       "      <td>0.355556</td>\n",
       "      <td>5735.444444</td>\n",
       "    </tr>\n",
       "    <tr>\n",
       "      <th>2</th>\n",
       "      <td>1.0</td>\n",
       "      <td>4.189655</td>\n",
       "      <td>0</td>\n",
       "      <td>1</td>\n",
       "      <td>0</td>\n",
       "      <td>1</td>\n",
       "      <td>0</td>\n",
       "      <td>1</td>\n",
       "      <td>0</td>\n",
       "      <td>0</td>\n",
       "      <td>...</td>\n",
       "      <td>0</td>\n",
       "      <td>0</td>\n",
       "      <td>1</td>\n",
       "      <td>0</td>\n",
       "      <td>0</td>\n",
       "      <td>1</td>\n",
       "      <td>3000.0</td>\n",
       "      <td>8.006368</td>\n",
       "      <td>0.183333</td>\n",
       "      <td>2816.666667</td>\n",
       "    </tr>\n",
       "    <tr>\n",
       "      <th>3</th>\n",
       "      <td>1.0</td>\n",
       "      <td>4.787492</td>\n",
       "      <td>0</td>\n",
       "      <td>1</td>\n",
       "      <td>0</td>\n",
       "      <td>1</td>\n",
       "      <td>0</td>\n",
       "      <td>1</td>\n",
       "      <td>0</td>\n",
       "      <td>0</td>\n",
       "      <td>...</td>\n",
       "      <td>1</td>\n",
       "      <td>1</td>\n",
       "      <td>0</td>\n",
       "      <td>0</td>\n",
       "      <td>0</td>\n",
       "      <td>1</td>\n",
       "      <td>4941.0</td>\n",
       "      <td>8.505323</td>\n",
       "      <td>0.333333</td>\n",
       "      <td>4607.666667</td>\n",
       "    </tr>\n",
       "    <tr>\n",
       "      <th>4</th>\n",
       "      <td>1.0</td>\n",
       "      <td>4.948760</td>\n",
       "      <td>0</td>\n",
       "      <td>1</td>\n",
       "      <td>1</td>\n",
       "      <td>0</td>\n",
       "      <td>0</td>\n",
       "      <td>1</td>\n",
       "      <td>0</td>\n",
       "      <td>0</td>\n",
       "      <td>...</td>\n",
       "      <td>0</td>\n",
       "      <td>1</td>\n",
       "      <td>0</td>\n",
       "      <td>0</td>\n",
       "      <td>0</td>\n",
       "      <td>1</td>\n",
       "      <td>6000.0</td>\n",
       "      <td>8.699515</td>\n",
       "      <td>0.391667</td>\n",
       "      <td>5608.333333</td>\n",
       "    </tr>\n",
       "  </tbody>\n",
       "</table>\n",
       "<p>5 rows × 21 columns</p>\n",
       "</div>"
      ],
      "text/plain": [
       "   Credit_History  LoanAmount_log  Gender_Female  Gender_Male  Married_No  \\\n",
       "0             1.0        4.852030              0            1           1   \n",
       "1             1.0        4.852030              0            1           0   \n",
       "2             1.0        4.189655              0            1           0   \n",
       "3             1.0        4.787492              0            1           0   \n",
       "4             1.0        4.948760              0            1           1   \n",
       "\n",
       "   Married_Yes  Dependents_3  Dependents_0  Dependents_1  Dependents_2  ...  \\\n",
       "0            0             0             1             0             0  ...   \n",
       "1            1             0             0             1             0  ...   \n",
       "2            1             0             1             0             0  ...   \n",
       "3            1             0             1             0             0  ...   \n",
       "4            0             0             1             0             0  ...   \n",
       "\n",
       "   Education_Not Graduate  Self_Employed_No  Self_Employed_Yes  \\\n",
       "0                       0                 1                  0   \n",
       "1                       0                 1                  0   \n",
       "2                       0                 0                  1   \n",
       "3                       1                 1                  0   \n",
       "4                       0                 1                  0   \n",
       "\n",
       "   Property_Area_Rural  Property_Area_Semiurban  Property_Area_Urban  \\\n",
       "0                    0                        0                    1   \n",
       "1                    1                        0                    0   \n",
       "2                    0                        0                    1   \n",
       "3                    0                        0                    1   \n",
       "4                    0                        0                    1   \n",
       "\n",
       "   Total_Income  Total_Income_log       EMI  Balance_Income  \n",
       "0        5849.0          8.674026  0.355556     5493.444444  \n",
       "1        6091.0          8.714568  0.355556     5735.444444  \n",
       "2        3000.0          8.006368  0.183333     2816.666667  \n",
       "3        4941.0          8.505323  0.333333     4607.666667  \n",
       "4        6000.0          8.699515  0.391667     5608.333333  \n",
       "\n",
       "[5 rows x 21 columns]"
      ]
     },
     "execution_count": 76,
     "metadata": {},
     "output_type": "execute_result"
    }
   ],
   "source": [
    "X.head()"
   ]
  },
  {
   "cell_type": "markdown",
   "id": "b654ae9a",
   "metadata": {},
   "source": [
    "## Application of Different Models\n"
   ]
  },
  {
   "cell_type": "markdown",
   "id": "0d4ea5e8",
   "metadata": {},
   "source": [
    "1. LogisticRegression\n",
    "2. RandomForest\n",
    "3. DecisionTree\n",
    "4. XGBoost"
   ]
  },
  {
   "cell_type": "code",
   "execution_count": 77,
   "id": "bd85038c",
   "metadata": {},
   "outputs": [
    {
     "name": "stdout",
     "output_type": "stream",
     "text": [
      "\n",
      "1 of kfold 5\n",
      "accuracy score  0.7886178861788617\n",
      "\n",
      "2 of kfold 5\n",
      "accuracy score  0.6910569105691057\n",
      "\n",
      "3 of kfold 5\n",
      "accuracy score  0.6666666666666666\n",
      "\n",
      "4 of kfold 5\n",
      "accuracy score  0.7804878048780488\n",
      "\n",
      "5 of kfold 5\n",
      "accuracy score  0.680327868852459\n",
      "\n",
      "mean of accuracy score is  0.7214314274290283\n"
     ]
    }
   ],
   "source": [
    "#LogisticRegression\n",
    "i=1\n",
    "accuracy_sr=[]\n",
    "skf=StratifiedKFold(n_splits=5, random_state=1, shuffle= True)\n",
    "for train_index,test_index in skf.split(X,Y):\n",
    "    print('\\n{} of kfold {}'.format(i, skf.n_splits))\n",
    "    xtr,xvl=X.iloc[train_index], X.iloc[test_index]\n",
    "    ytr,yvl=Y.iloc[train_index], Y.iloc[test_index]\n",
    "    model=LogisticRegression(random_state=1, max_iter=100)\n",
    "    model.fit(xtr,ytr)\n",
    "    pred_test=model.predict(xvl)\n",
    "    score=accuracy_score(yvl,pred_test)\n",
    "    print('accuracy score ',score)\n",
    "    i+=1\n",
    "    accuracy_sr.append(score)\n",
    "\n",
    "print('\\nmean of accuracy score is ',mean(accuracy_sr))\n",
    "\n"
   ]
  },
  {
   "cell_type": "code",
   "execution_count": 88,
   "id": "591b3f29",
   "metadata": {},
   "outputs": [],
   "source": [
    "pred_test=model.predict(loan_te_data)\n",
    "pred=model.predict_proba(xvl)[:,1]\n",
    "\n",
    "submission['Loan_Status']=pred_test\n",
    "submission['Loan_ID']=loan_te_data_original['Loan_ID'].copy()\n",
    "\n",
    "submission['Loan_Status'].replace(1,'Y', inplace=True)\n",
    "submission['Loan_Status'].replace(0,'N', inplace=True)\n",
    "\n",
    "submission.to_csv(\"log2.csv\", index=False)"
   ]
  },
  {
   "cell_type": "code",
   "execution_count": 79,
   "id": "25f54c7e",
   "metadata": {},
   "outputs": [
    {
     "name": "stdout",
     "output_type": "stream",
     "text": [
      "\n",
      "1 of kfold 5\n",
      "accuracy score  0.7398373983739838\n",
      "\n",
      "2 of kfold 5\n",
      "accuracy score  0.6991869918699187\n",
      "\n",
      "3 of kfold 5\n",
      "accuracy score  0.7560975609756098\n",
      "\n",
      "4 of kfold 5\n",
      "accuracy score  0.7073170731707317\n",
      "\n",
      "5 of kfold 5\n",
      "accuracy score  0.6721311475409836\n",
      "\n",
      "mean of accuracy score is  0.7149140343862455\n"
     ]
    }
   ],
   "source": [
    "# Decision Tree\n",
    "\n",
    "from sklearn import tree\n",
    "i=1\n",
    "accuracy_sr=[]\n",
    "skf=StratifiedKFold(n_splits=5, random_state=1, shuffle= True)\n",
    "for train_index,test_index in skf.split(X,Y):\n",
    "    print('\\n{} of kfold {}'.format(i, skf.n_splits))\n",
    "    xtr,xvl=X.iloc[train_index], X.iloc[test_index]\n",
    "    ytr,yvl=Y.iloc[train_index], Y.iloc[test_index]\n",
    "    model=tree.DecisionTreeClassifier(random_state=1)\n",
    "    model.fit(xtr,ytr)\n",
    "    pred_test=model.predict(xvl)\n",
    "    score=accuracy_score(yvl,pred_test)\n",
    "    print('accuracy score ',score)\n",
    "    i+=1\n",
    "    accuracy_sr.append(score)\n",
    "\n",
    "print('\\nmean of accuracy score is ',mean(accuracy_sr))"
   ]
  },
  {
   "cell_type": "code",
   "execution_count": 87,
   "id": "aff96f88",
   "metadata": {},
   "outputs": [],
   "source": [
    "pred_test=model.predict(loan_te_data)\n",
    "pred=model.predict_proba(xvl)[:,1]\n",
    "\n",
    "submission['Loan_Status']=pred_test\n",
    "submission['Loan_ID']=loan_te_data_original['Loan_ID'].copy()\n",
    "\n",
    "submission['Loan_Status'].replace(1,'Y', inplace=True)\n",
    "submission['Loan_Status'].replace(0,'N', inplace=True)\n",
    "\n",
    "submission.to_csv(\"Decision tree.csv\", index=False)"
   ]
  },
  {
   "cell_type": "code",
   "execution_count": 81,
   "id": "42ac1b3a",
   "metadata": {},
   "outputs": [
    {
     "name": "stdout",
     "output_type": "stream",
     "text": [
      "\n",
      "1 of kfold 5\n",
      "accuracy score  0.8292682926829268\n",
      "\n",
      "2 of kfold 5\n",
      "accuracy score  0.8130081300813008\n",
      "\n",
      "3 of kfold 5\n",
      "accuracy score  0.7723577235772358\n",
      "\n",
      "4 of kfold 5\n",
      "accuracy score  0.8048780487804879\n",
      "\n",
      "5 of kfold 5\n",
      "accuracy score  0.7540983606557377\n",
      "\n",
      "mean of accuracy score is  0.7947221111555378\n"
     ]
    }
   ],
   "source": [
    "# RandomForestClassifier\n",
    "\n",
    "from sklearn.ensemble import RandomForestClassifier\n",
    "\n",
    "i=1\n",
    "accuracy_sr=[]\n",
    "skf=StratifiedKFold(n_splits=5, random_state=1, shuffle= True)\n",
    "for train_index,test_index in skf.split(X,Y):\n",
    "    print('\\n{} of kfold {}'.format(i, skf.n_splits))\n",
    "    xtr,xvl=X.iloc[train_index], X.iloc[test_index]\n",
    "    ytr,yvl=Y.iloc[train_index], Y.iloc[test_index]\n",
    "    model=RandomForestClassifier(random_state=1, max_depth=10)\n",
    "    model.fit(xtr,ytr)\n",
    "    pred_test=model.predict(xvl)\n",
    "    score=accuracy_score(yvl,pred_test)\n",
    "    print('accuracy score ',score)\n",
    "    i+=1\n",
    "    accuracy_sr.append(score)\n",
    "\n",
    "print('\\nmean of accuracy score is ',mean(accuracy_sr))"
   ]
  },
  {
   "cell_type": "code",
   "execution_count": 85,
   "id": "974e8a5d",
   "metadata": {},
   "outputs": [],
   "source": [
    "pred_test=model.predict(loan_te_data)\n",
    "pred=model.predict_proba(xvl)[:,1]\n",
    "\n",
    "submission['Loan_Status']=pred_test\n",
    "submission['Loan_ID']=loan_te_data_original['Loan_ID'].copy()\n",
    "\n",
    "submission['Loan_Status'].replace(1,'Y', inplace=True)\n",
    "submission['Loan_Status'].replace(0,'N', inplace=True)\n",
    "\n",
    "submission.to_csv(\"Random Forest.csv\", index=False)"
   ]
  },
  {
   "cell_type": "code",
   "execution_count": 83,
   "id": "76086735",
   "metadata": {},
   "outputs": [
    {
     "name": "stdout",
     "output_type": "stream",
     "text": [
      "\n",
      "1 of kfold 5\n",
      "[20:39:09] WARNING: C:/Users/Administrator/workspace/xgboost-win64_release_1.6.0/src/learner.cc:627: \n",
      "Parameters: { \"n_estimator\" } might not be used.\n",
      "\n",
      "  This could be a false alarm, with some parameters getting used by language bindings but\n",
      "  then being mistakenly passed down to XGBoost core, or some parameter actually being used\n",
      "  but getting flagged wrongly here. Please open an issue if you find any such cases.\n",
      "\n",
      "\n",
      "accuracy score  0.7642276422764228\n",
      "\n",
      "2 of kfold 5\n",
      "[20:39:09] WARNING: C:/Users/Administrator/workspace/xgboost-win64_release_1.6.0/src/learner.cc:627: \n",
      "Parameters: { \"n_estimator\" } might not be used.\n",
      "\n",
      "  This could be a false alarm, with some parameters getting used by language bindings but\n",
      "  then being mistakenly passed down to XGBoost core, or some parameter actually being used\n",
      "  but getting flagged wrongly here. Please open an issue if you find any such cases.\n",
      "\n",
      "\n",
      "accuracy score  0.7317073170731707\n",
      "\n",
      "3 of kfold 5\n",
      "[20:39:09] WARNING: C:/Users/Administrator/workspace/xgboost-win64_release_1.6.0/src/learner.cc:627: \n",
      "Parameters: { \"n_estimator\" } might not be used.\n",
      "\n",
      "  This could be a false alarm, with some parameters getting used by language bindings but\n",
      "  then being mistakenly passed down to XGBoost core, or some parameter actually being used\n",
      "  but getting flagged wrongly here. Please open an issue if you find any such cases.\n",
      "\n",
      "\n",
      "accuracy score  0.7804878048780488\n",
      "\n",
      "4 of kfold 5\n",
      "[20:39:09] WARNING: C:/Users/Administrator/workspace/xgboost-win64_release_1.6.0/src/learner.cc:627: \n",
      "Parameters: { \"n_estimator\" } might not be used.\n",
      "\n",
      "  This could be a false alarm, with some parameters getting used by language bindings but\n",
      "  then being mistakenly passed down to XGBoost core, or some parameter actually being used\n",
      "  but getting flagged wrongly here. Please open an issue if you find any such cases.\n",
      "\n",
      "\n",
      "accuracy score  0.7642276422764228\n",
      "\n",
      "5 of kfold 5\n",
      "[20:39:09] WARNING: C:/Users/Administrator/workspace/xgboost-win64_release_1.6.0/src/learner.cc:627: \n",
      "Parameters: { \"n_estimator\" } might not be used.\n",
      "\n",
      "  This could be a false alarm, with some parameters getting used by language bindings but\n",
      "  then being mistakenly passed down to XGBoost core, or some parameter actually being used\n",
      "  but getting flagged wrongly here. Please open an issue if you find any such cases.\n",
      "\n",
      "\n",
      "accuracy score  0.7377049180327869\n",
      "\n",
      "mean of accuracy score is  0.7556710649073705\n"
     ]
    }
   ],
   "source": [
    "# XGBoost\n",
    "from xgboost import XGBClassifier\n",
    "\n",
    "i=1\n",
    "accuracy_sr=[]\n",
    "skf=StratifiedKFold(n_splits=5, random_state=1, shuffle= True)\n",
    "for train_index,test_index in skf.split(X,Y):\n",
    "    print('\\n{} of kfold {}'.format(i, skf.n_splits))\n",
    "    xtr,xvl=X.iloc[train_index], X.iloc[test_index]\n",
    "    ytr,yvl=Y.iloc[train_index], Y.iloc[test_index]\n",
    "    model=XGBClassifier(n_estimator=50, max_depth=4)\n",
    "    model.fit(xtr,ytr)\n",
    "    pred_test=model.predict(xvl)\n",
    "    score=accuracy_score(yvl,pred_test)\n",
    "    print('accuracy score ',score)\n",
    "    i+=1\n",
    "    accuracy_sr.append(score)\n",
    "\n",
    "print('\\nmean of accuracy score is ',mean(accuracy_sr))"
   ]
  },
  {
   "cell_type": "code",
   "execution_count": 86,
   "id": "1ea85e37",
   "metadata": {},
   "outputs": [],
   "source": [
    "pred_test=model.predict(loan_te_data)\n",
    "pred=model.predict_proba(xvl)[:,1]\n",
    "\n",
    "submission['Loan_Status']=pred_test\n",
    "submission['Loan_ID']=loan_te_data_original['Loan_ID'].copy()\n",
    "\n",
    "submission['Loan_Status'].replace(1,'Y', inplace=True)\n",
    "submission['Loan_Status'].replace(0,'N', inplace=True)\n",
    "\n",
    "submission.to_csv(\"XGBoost.csv\", index=False)"
   ]
  },
  {
   "cell_type": "code",
   "execution_count": null,
   "id": "2f43aea4",
   "metadata": {},
   "outputs": [],
   "source": []
  }
 ],
 "metadata": {
  "kernelspec": {
   "display_name": "Python 3 (ipykernel)",
   "language": "python",
   "name": "python3"
  },
  "language_info": {
   "codemirror_mode": {
    "name": "ipython",
    "version": 3
   },
   "file_extension": ".py",
   "mimetype": "text/x-python",
   "name": "python",
   "nbconvert_exporter": "python",
   "pygments_lexer": "ipython3",
   "version": "3.10.2"
  }
 },
 "nbformat": 4,
 "nbformat_minor": 5
}
